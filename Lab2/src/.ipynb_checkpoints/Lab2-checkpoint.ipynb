{
 "cells": [
  {
   "cell_type": "markdown",
   "id": "ecd3c00e",
   "metadata": {},
   "source": [
    "# Lab 2: Applications of Quantum Information Processing\n",
    "* Author: B08901049 Yuan-Chia Chang\n",
    "* Instructor: Professor Hao-Chung Cheng\n",
    "* TA: Chia-Yi Chou\n",
    "* Created: 10/11/2021(Mon)\n",
    "* Last edited: 10/19/2021(Tue)\n",
    "* Contact: b08901049@ntu.edu.tw\n",
    "* Collaborator: B08901002 Chen-Han Lin, B08901209 Yu-Hsiang Lin"
   ]
  },
  {
   "cell_type": "markdown",
   "id": "ecc2f6d6",
   "metadata": {},
   "source": [
    "## Import Some Packages"
   ]
  },
  {
   "cell_type": "code",
   "execution_count": 30,
   "id": "244c2c92",
   "metadata": {},
   "outputs": [],
   "source": [
    "import qiskit\n",
    "from qiskit import *\n",
    "import time\n",
    "from numpy.random import randint\n",
    "import numpy as np\n",
    "# Monitoring our job\n",
    "from qiskit.tools.monitor import job_monitor\n",
    "import random\n",
    "# Importing everything\n",
    "from qiskit import QuantumCircuit\n",
    "from qiskit import IBMQ, Aer, transpile, assemble\n",
    "from qiskit.visualization import plot_histogram"
   ]
  },
  {
   "cell_type": "markdown",
   "id": "8568e0ec",
   "metadata": {},
   "source": [
    "## Define Some Constants"
   ]
  },
  {
   "cell_type": "code",
   "execution_count": 13,
   "id": "6fc49784",
   "metadata": {},
   "outputs": [
    {
     "name": "stderr",
     "output_type": "stream",
     "text": [
      "configrc.store_credentials:WARNING:2021-10-19 13:42:47,099: Credentials already present. Set overwrite=True to overwrite.\n"
     ]
    },
    {
     "data": {
      "text/plain": [
       "<AccountProvider for IBMQ(hub='ibm-q', group='open', project='main')>"
      ]
     },
     "execution_count": 13,
     "metadata": {},
     "output_type": "execute_result"
    }
   ],
   "source": [
    "shots = 256\n",
    "api_token = \"1a1095eb06da72eb4ec3f07a7c583eb84d89a9d96e3cec78db81374e92af3c3f3fa5ecaaf5821bc5c166c41d9615fd2ac7b72615f3e8a77b15532ab10395a66f\"\n",
    "IBMQ.save_account(api_token)\n",
    "# Load local account information\n",
    "IBMQ.load_account()"
   ]
  },
  {
   "cell_type": "markdown",
   "id": "471f41d9",
   "metadata": {},
   "source": [
    "## Set up quantum simulator backend"
   ]
  },
  {
   "cell_type": "code",
   "execution_count": 14,
   "id": "c7b7b762",
   "metadata": {},
   "outputs": [],
   "source": [
    "qasm_simulator = Aer.get_backend('qasm_simulator')"
   ]
  },
  {
   "cell_type": "markdown",
   "id": "44f29cd6",
   "metadata": {},
   "source": [
    "## Set up real IBMQ backend"
   ]
  },
  {
   "cell_type": "code",
   "execution_count": 15,
   "id": "255f193f",
   "metadata": {},
   "outputs": [
    {
     "name": "stdout",
     "output_type": "stream",
     "text": [
      "least busy backend:  ibmq_lima\n"
     ]
    }
   ],
   "source": [
    "from qiskit import IBMQ\n",
    "from qiskit.providers.ibmq import least_busy\n",
    "shots = 1024\n",
    "# Get the least busy backend\n",
    "provider = IBMQ.get_provider(hub='ibm-q')\n",
    "real_device_backend = least_busy(provider.backends(filters=lambda x: x.configuration().n_qubits >= 2 \n",
    "                                       and not x.configuration().simulator \n",
    "                                       and x.status().operational==True))\n",
    "print(\"least busy backend: \", real_device_backend)\n",
    "#provider = IBMQ.get_provider(hub = 'ibm-q', group = 'open',project = 'main')\n",
    "#real_device_backend = provider.get_backend('ibmq_belem')"
   ]
  },
  {
   "cell_type": "markdown",
   "id": "ac0d4a16",
   "metadata": {},
   "source": [
    "## Test whether the IBMQ real device works properly"
   ]
  },
  {
   "cell_type": "code",
   "execution_count": 16,
   "id": "23ad3ffe",
   "metadata": {},
   "outputs": [
    {
     "name": "stdout",
     "output_type": "stream",
     "text": [
      "Job Status: job has successfully run\n",
      "[11, 11, 12, 14, 29, 17, 16, 12, 26, 10, 26, 23, 4, 31, 14, 25, 16, 1, 12, 15]\n"
     ]
    }
   ],
   "source": [
    "q = QuantumRegister(5)\n",
    "c = ClassicalRegister(5)\n",
    "circuit = QuantumCircuit(q,c)\n",
    "for i in range(5):\n",
    "    circuit.h(q[i])\n",
    "circuit.measure(q,c)\n",
    "job = execute(circuit, backend =real_device_backend, shots=20, memory=True) #For getting the information of every shots\n",
    "from qiskit.tools.monitor import job_monitor\n",
    "job_monitor(job)\n",
    "result = job.result()\n",
    "counts = result.get_memory()\n",
    "random_list = []\n",
    "for i in counts:\n",
    "    random_list.append(int(i,2))\n",
    "print(random_list)"
   ]
  },
  {
   "cell_type": "markdown",
   "id": "e103970c",
   "metadata": {},
   "source": [
    "## Q1[1]"
   ]
  },
  {
   "cell_type": "markdown",
   "id": "f92ad717",
   "metadata": {},
   "source": [
    "### 1(a)"
   ]
  },
  {
   "cell_type": "code",
   "execution_count": 18,
   "id": "1b2b24ab",
   "metadata": {},
   "outputs": [],
   "source": [
    "#https://qiskit.org/textbook/ch-algorithms/superdense-coding.html\n",
    "def random_bit(n):\n",
    "    # Setting the random seed\n",
    "    np.random.seed(seed=round(time.time())) # You may choose any seed instead of just 0\n",
    "    alice_bits = randint(2, size=n)\n",
    "    print(alice_bits)\n",
    "    return alice_bits\n",
    "def create_bell_pair():\n",
    "    \"\"\"\n",
    "    Returns:\n",
    "        QuantumCircuit: Circuit that produces a Bell pair\n",
    "    \"\"\"\n",
    "    qc = QuantumCircuit(4)\n",
    "    qc.h(1)\n",
    "    qc.cx(1, 0)\n",
    "    qc.h(3)\n",
    "    qc.cx(3, 2)\n",
    "    return qc\n",
    "def encode_message(qc, msg, n):\n",
    "    \"\"\"Encodes a two-bit message on qc using the superdense coding protocol\n",
    "    Args:\n",
    "        qc (QuantumCircuit): Circuit to encode message on\n",
    "        qubit (int): Which qubit to add the gate to\n",
    "        msg (str): Two-bit message to send\n",
    "    Returns:\n",
    "        QuantumCircuit: Circuit that, when decoded, will produce msg\n",
    "    Raises:\n",
    "        ValueError if msg is wrong length or contains invalid characters\n",
    "    \"\"\"\n",
    "    if len(msg) != n or not set([0,1]).issubset({0,1}):\n",
    "        raise ValueError(f\"message '{msg}' is invalid\")\n",
    "    if msg[1] == 1:\n",
    "        qc.x(0)\n",
    "    if msg[0] == 1:\n",
    "        qc.z(0)\n",
    "    if msg[3] == 1:\n",
    "        qc.x(2)\n",
    "    if msg[2] == 1:\n",
    "        qc.z(2)\n",
    "    return qc\n",
    "def decode_message(qc):\n",
    "    qc.cx(0, 1)\n",
    "    qc.h(0)\n",
    "    qc.cx(2, 3)\n",
    "    qc.h(2)\n",
    "    return qc"
   ]
  },
  {
   "cell_type": "code",
   "execution_count": 20,
   "id": "12933aba",
   "metadata": {},
   "outputs": [
    {
     "name": "stdout",
     "output_type": "stream",
     "text": [
      "[0 1 0 1]\n",
      "0\n",
      "1\n",
      "0\n",
      "1\n",
      "BER = 0.00%\n",
      "SER = 0.00%\n"
     ]
    }
   ],
   "source": [
    "qc = create_bell_pair()\n",
    "qc.barrier()\n",
    "n = 4 # This is the number of bits in the string\n",
    "alice_bits = random_bit(n)\n",
    "qc = encode_message(qc, alice_bits, n)\n",
    "print(alice_bits[0])\n",
    "print(alice_bits[1])\n",
    "print(alice_bits[2])\n",
    "print(alice_bits[3])\n",
    "qc.barrier()\n",
    "qc = decode_message(qc)\n",
    "qc.measure_all()\n",
    "qc.draw()\n",
    "aer_sim = Aer.get_backend('aer_simulator')\n",
    "qobj = assemble(qc)\n",
    "result = aer_sim.run(qobj,memory=True).result()\n",
    "counts = result.get_memory(qc)\n",
    "correct_bits = 0\n",
    "for i in range(shots):\n",
    "    for j in range (n):\n",
    "        if int(counts[i][j]) == int(alice_bits[n-1-j]):\n",
    "            correct_bits = correct_bits + 1\n",
    "BER = 100 - (correct_bits / n /shots) * 100\n",
    "correct_systems = 0\n",
    "for i in range(shots):\n",
    "    if ((int(counts[i][0]) == int(alice_bits[3])) and (int(counts[i][1]) == int(alice_bits[2]))):\n",
    "        correct_systems += 1\n",
    "    if ((int(counts[i][2]) == int(alice_bits[1])) and (int(counts[i][3]) == int(alice_bits[0]))):\n",
    "        correct_systems += 1\n",
    "SER = 100 - (correct_systems / shots / 2) * 100\n",
    "print(f\"BER = {BER:.2f}%\")\n",
    "print(f\"SER = {SER:.2f}%\")"
   ]
  },
  {
   "cell_type": "markdown",
   "id": "054a0ee1",
   "metadata": {},
   "source": [
    "## 1(b)"
   ]
  },
  {
   "cell_type": "code",
   "execution_count": 21,
   "id": "8fd7fdb1",
   "metadata": {},
   "outputs": [],
   "source": [
    "# Run our circuit\n",
    "t_qc = transpile(qc, real_device_backend, optimization_level=3)\n",
    "job = real_device_backend.run(t_qc, memory=True)"
   ]
  },
  {
   "cell_type": "code",
   "execution_count": 22,
   "id": "5c61a3c1",
   "metadata": {},
   "outputs": [
    {
     "name": "stdout",
     "output_type": "stream",
     "text": [
      "Job Status: job has successfully run\n",
      "BER = 6.592%\n",
      "SER = 12.402%\n"
     ]
    }
   ],
   "source": [
    "from qiskit.tools.monitor import job_monitor\n",
    "job_monitor(job)\n",
    "# Plotting our result\n",
    "result = job.result()\n",
    "counts = result.get_memory(qc)\n",
    "correct_bits = 0\n",
    "n = 4\n",
    "shots = 1024\n",
    "for i in range(shots):\n",
    "    for j in range (n):\n",
    "        if int(counts[i][j]) == int(alice_bits[n-1-j]):\n",
    "            correct_bits = correct_bits + 1\n",
    "BER = 100 - (correct_bits / n / shots ) * 100\n",
    "correct_systems = 0\n",
    "for i in range(shots):\n",
    "    if ((int(counts[i][0]) == int(alice_bits[3])) and (int(counts[i][1]) == int(alice_bits[2]))):\n",
    "        correct_systems += 1\n",
    "    if ((int(counts[i][2]) == int(alice_bits[1])) and (int(counts[i][3]) == int(alice_bits[0]))):\n",
    "        correct_systems += 1\n",
    "SER = 100 - (correct_systems / shots / 2) * 100\n",
    "print(f\"BER = {BER:.3f}%\")\n",
    "print(f\"SER = {SER:.3f}%\")\n",
    "   "
   ]
  },
  {
   "cell_type": "markdown",
   "id": "f2f81269",
   "metadata": {},
   "source": [
    "## 2"
   ]
  },
  {
   "cell_type": "code",
   "execution_count": 23,
   "id": "0f734304",
   "metadata": {},
   "outputs": [],
   "source": [
    "# Do the necessary imports\n",
    "import numpy as np\n",
    "from qiskit import QuantumCircuit, QuantumRegister, ClassicalRegister\n",
    "from qiskit import IBMQ, Aer, transpile, assemble\n",
    "from qiskit.visualization import plot_histogram, plot_bloch_multivector, array_to_latex\n",
    "from qiskit.extensions import Initialize\n",
    "from qiskit.ignis.verification import marginal_counts\n",
    "from qiskit.quantum_info import random_statevector"
   ]
  },
  {
   "cell_type": "markdown",
   "id": "dc6d3ae7",
   "metadata": {},
   "source": [
    "### 2(a)[2]"
   ]
  },
  {
   "cell_type": "markdown",
   "id": "d263b3b4",
   "metadata": {},
   "source": [
    "#### (i)"
   ]
  },
  {
   "cell_type": "code",
   "execution_count": 24,
   "id": "c55d2c83",
   "metadata": {},
   "outputs": [],
   "source": [
    "\n",
    "def create_bell_pair(qc, a, b):\n",
    "    \"\"\"Creates a bell pair in qc using qubits a & b\"\"\"\n",
    "    qc.h(a) # Put qubit a into state |+>\n",
    "    qc.cx(a,b) # CNOT with a as control and b as target\n",
    "def alice_gates(qc, psi, a):\n",
    "    qc.cx(psi, a)\n",
    "    qc.h(psi)\n",
    "def measure_and_send(qc, a, b):\n",
    "    \"\"\"Measures qubits a & b and 'sends' the results to Bob\"\"\"\n",
    "    qc.barrier()\n",
    "    qc.measure(a,0)\n",
    "    qc.measure(b,1)\n",
    "# This function takes a QuantumCircuit (qc), integer (qubit)\n",
    "# and ClassicalRegisters (crz & crx) to decide which gates to apply\n",
    "def bob_gates(qc, qubit, crz, crx):\n",
    "    # Here we use c_if to control our gates with a classical\n",
    "    # bit instead of a qubit\n",
    "    qc.x(qubit).c_if(crx, 1) # Apply gates if the registers \n",
    "    qc.z(qubit).c_if(crz, 1) # are in the state '1'"
   ]
  },
  {
   "cell_type": "code",
   "execution_count": 25,
   "id": "6c517216",
   "metadata": {},
   "outputs": [
    {
     "data": {
      "text/latex": [
       "$$\n",
       "|BAA \\rangle =\n",
       "\\begin{bmatrix}\n",
       "0.55768 - 0.21132i & 0.78868 - 0.14943i & 0 & 0 & 0 & 0 & 0 & 0  \\\\\n",
       " \\end{bmatrix}\n",
       "$$"
      ],
      "text/plain": [
       "<IPython.core.display.Latex object>"
      ]
     },
     "metadata": {},
     "output_type": "display_data"
    },
    {
     "data": {
      "text/latex": [
       "$$\n",
       "|\\psi B \\rangle =\n",
       "\\begin{bmatrix}\n",
       "0.55768 - 0.21132i & 0.78868 - 0.14943i  \\\\\n",
       " \\end{bmatrix}\n",
       "$$"
      ],
      "text/plain": [
       "<IPython.core.display.Latex object>"
      ]
     },
     "metadata": {},
     "output_type": "display_data"
    },
    {
     "data": {
      "text/latex": [
       "$$\n",
       "|BAAprime \\rangle =\n",
       "\\begin{bmatrix}\n",
       "0 & 0 & 0.55768 - 0.21132i & 0 & 0 & 0 & 0.78868 - 0.14943i & 0  \\\\\n",
       " \\end{bmatrix}\n",
       "$$"
      ],
      "text/plain": [
       "<IPython.core.display.Latex object>"
      ]
     },
     "metadata": {},
     "output_type": "display_data"
    },
    {
     "data": {
      "text/latex": [
       "$$\n",
       "|\\psi B prime \\rangle =\n",
       "\\begin{bmatrix}\n",
       "0.55768 - 0.21132i & 0.78868 - 0.14943i  \\\\\n",
       " \\end{bmatrix}\n",
       "$$"
      ],
      "text/plain": [
       "<IPython.core.display.Latex object>"
      ]
     },
     "metadata": {},
     "output_type": "display_data"
    },
    {
     "name": "stdout",
     "output_type": "stream",
     "text": [
      "<psiBprime||psiB> = 1.000+0.000j\n"
     ]
    }
   ],
   "source": [
    "## SETUP\n",
    "# Protocol uses 3 qubits and 2 classical bits in 2 different registers\n",
    "qr = QuantumRegister(3, name=\"q\")\n",
    "crz, crx = ClassicalRegister(1, name=\"crz\"), ClassicalRegister(1, name=\"crx\")\n",
    "qc = QuantumCircuit(qr, crz, crx)\n",
    "\n",
    "qc.ry(2 * np.arctan(np.sqrt(2)), 0)\n",
    "qc.rx(np.pi/6, 0) \n",
    "statevector_simulator = Aer.get_backend('statevector_simulator')\n",
    "job = execute(qc, statevector_simulator)\n",
    "result = job.result()\n",
    "psi_BAA = result.get_statevector()\n",
    "display(array_to_latex(psi_BAA, prefix=\"|BAA \\\\rangle =\"))\n",
    "psi_B = []\n",
    "psi_B.append(psi_BAA[0])\n",
    "psi_B.append(psi_BAA[1])\n",
    "display(array_to_latex(psi_B, prefix=\"|\\\\psi B \\\\rangle =\"))\n",
    "qc.barrier()\n",
    "## STEP 1\n",
    "create_bell_pair(qc, 1, 2)\n",
    "\n",
    "## STEP 2\n",
    "qc.barrier() # Use barrier to separate steps\n",
    "alice_gates(qc, 0, 1)\n",
    "\n",
    "## STEP 3\n",
    "measure_and_send(qc, 0, 1)\n",
    "\n",
    "## STEP 4\n",
    "qc.barrier() # Use barrier to separate steps\n",
    "bob_gates(qc, 2, crz, crx)\n",
    "qc.draw()\n",
    "sim = Aer.get_backend('aer_simulator')\n",
    "qc.save_statevector()\n",
    "psi_BAAprime = sim.run(qc).result().get_statevector()\n",
    "display(array_to_latex(psi_BAAprime, prefix=\"|BAAprime \\\\rangle =\"))\n",
    "psi_B_prime = []\n",
    "for i in range(8):\n",
    "    if(abs(psi_BAAprime[i]) != 0):\n",
    "        psi_B_prime.append(psi_BAAprime[i])\n",
    "display(array_to_latex(psi_B_prime, prefix=\"|\\\\psi B prime \\\\rangle =\"))\n",
    "psi_B_array = np.array(psi_B)\n",
    "psi_B_transpose_and_conjugate = np.transpose(np.conjugate(psi_B_array))\n",
    "print(f\"<psiBprime||psiB> = {np.matmul(psi_B_transpose_and_conjugate, psi_B_prime):.3f}\")"
   ]
  },
  {
   "cell_type": "markdown",
   "id": "27438698",
   "metadata": {},
   "source": [
    "#### (ii)"
   ]
  },
  {
   "cell_type": "code",
   "execution_count": 35,
   "id": "2ed0b068",
   "metadata": {},
   "outputs": [
    {
     "name": "stdout",
     "output_type": "stream",
     "text": [
      "       ┌────────────┐┌─────────┐ ░            ░      ┌───┐ ░ ┌─┐    ░        »\n",
      "  q_0: ┤ Ry(1.9106) ├┤ Rx(π/6) ├─░────────────░───■──┤ H ├─░─┤M├────░────────»\n",
      "       └────────────┘└─────────┘ ░ ┌───┐      ░ ┌─┴─┐└───┘ ░ └╥┘┌─┐ ░        »\n",
      "  q_1: ──────────────────────────░─┤ H ├──■───░─┤ X ├──────░──╫─┤M├─░────────»\n",
      "                                 ░ └───┘┌─┴─┐ ░ └───┘      ░  ║ └╥┘ ░  ┌───┐ »\n",
      "  q_2: ──────────────────────────░──────┤ X ├─░────────────░──╫──╫──░──┤ X ├─»\n",
      "                                 ░      └───┘ ░            ░  ║  ║  ░  └─╥─┘ »\n",
      "crz: 1/═══════════════════════════════════════════════════════╩══╬═══════╬═══»\n",
      "                                                              0  ║    ┌──╨──┐»\n",
      "crx: 1/══════════════════════════════════════════════════════════╩════╡ = 1 ╞»\n",
      "                                                                 0    └─────┘»\n",
      " c8: 1/══════════════════════════════════════════════════════════════════════»\n",
      "                                                                             »\n",
      "«                                            \n",
      "«  q_0: ─────────────────────────────────────\n",
      "«                                            \n",
      "«  q_1: ─────────────────────────────────────\n",
      "«        ┌───┐ ┌──────────┐┌─────────────┐┌─┐\n",
      "«  q_2: ─┤ Z ├─┤ Rx(-π/6) ├┤ Ry(-1.9106) ├┤M├\n",
      "«        └─╥─┘ └──────────┘└─────────────┘└╥┘\n",
      "«       ┌──╨──┐                            ║ \n",
      "«crz: 1/╡ = 1 ╞════════════════════════════╬═\n",
      "«       └─────┘                            ║ \n",
      "«crx: 1/═══════════════════════════════════╬═\n",
      "«                                          ║ \n",
      "« c8: 1/═══════════════════════════════════╩═\n",
      "«                                          0 \n"
     ]
    },
    {
     "data": {
      "image/png": "[encoded data removed]",
      "text/plain": [
       "<Figure size 504x360 with 1 Axes>"
      ]
     },
     "execution_count": 35,
     "metadata": {},
     "output_type": "execute_result"
    }
   ],
   "source": [
    "## SETUP\n",
    "# Protocol uses 3 qubits and 2 classical bits in 2 different registers\n",
    "qr = QuantumRegister(3, name=\"q\")\n",
    "crz, crx = ClassicalRegister(1, name=\"crz\"), ClassicalRegister(1, name=\"crx\")\n",
    "qc = QuantumCircuit(qr, crz, crx)\n",
    "\n",
    "qc.ry(2 * np.arctan(np.sqrt(2)), 0)\n",
    "qc.rx(np.pi/6, 0) \n",
    "qc.barrier()\n",
    "## STEP 1\n",
    "create_bell_pair(qc, 1, 2)\n",
    "\n",
    "## STEP 2\n",
    "qc.barrier() # Use barrier to separate steps\n",
    "alice_gates(qc, 0, 1)\n",
    "\n",
    "## STEP 3\n",
    "measure_and_send(qc, 0, 1)\n",
    "\n",
    "## STEP 4\n",
    "qc.barrier() # Use barrier to separate steps\n",
    "bob_gates(qc, 2, crz, crx)\n",
    "\n",
    "\n",
    "## STEP 5\n",
    "qc.rx(-np.pi/6, 2)\n",
    "qc.ry(-2 * np.arctan(np.sqrt(2)), 2)\n",
    "cr_result = ClassicalRegister(1)\n",
    "qc.add_register(cr_result)\n",
    "qc.draw()\n",
    "qc.measure(2,2)\n",
    "print(qc)\n",
    "\n",
    "sim = Aer.get_backend('aer_simulator')\n",
    "t_qc = transpile(qc, sim)\n",
    "t_qc.save_statevector()\n",
    "counts = sim.run(t_qc).result().get_counts()\n",
    "qubit_counts = [marginal_counts(counts, [qubit]) for qubit in range(3)]\n",
    "plot_histogram(qubit_counts)"
   ]
  },
  {
   "cell_type": "markdown",
   "id": "42029260",
   "metadata": {},
   "source": [
    "#### (iii)"
   ]
  },
  {
   "cell_type": "code",
   "execution_count": 36,
   "id": "cce81248",
   "metadata": {},
   "outputs": [
    {
     "name": "stdout",
     "output_type": "stream",
     "text": [
      "         ┌────────────┐┌─────────┐ ░            ░      ┌───┐ ░ ┌─┐    ░        »\n",
      "    q_0: ┤ Ry(1.9106) ├┤ Rx(π/6) ├─░────────────░───■──┤ H ├─░─┤M├────░────────»\n",
      "         └────────────┘└─────────┘ ░ ┌───┐      ░ ┌─┴─┐└───┘ ░ └╥┘┌─┐ ░        »\n",
      "    q_1: ──────────────────────────░─┤ H ├──■───░─┤ X ├──────░──╫─┤M├─░────────»\n",
      "                                   ░ └───┘┌─┴─┐ ░ └───┘      ░  ║ └╥┘ ░  ┌───┐ »\n",
      "    q_2: ──────────────────────────░──────┤ X ├─░────────────░──╫──╫──░──┤ X ├─»\n",
      "         ┌────────────┐┌─────────┐ ░      └───┘ ░            ░  ║  ║  ░  └─╥─┘ »\n",
      "    q_3: ┤ Ry(1.9106) ├┤ Rx(π/6) ├─░────────────░────────────░──╫──╫──░────╫───»\n",
      "         └────────────┘└─────────┘ ░            ░            ░  ║  ║  ░    ║   »\n",
      "    q_4: ──────────────────────────░────────────░────────────░──╫──╫──░────╫───»\n",
      "                                   ░            ░            ░  ║  ║  ░    ║   »\n",
      "  crz: 1/═══════════════════════════════════════════════════════╩══╬═══════╬═══»\n",
      "                                                                0  ║    ┌──╨──┐»\n",
      "  crx: 1/══════════════════════════════════════════════════════════╩════╡ = 1 ╞»\n",
      "                                                                   0    └─────┘»\n",
      "cswap: 1/══════════════════════════════════════════════════════════════════════»\n",
      "                                                                               »\n",
      "«                                                                      \n",
      "«    q_0: ─────────────────────────────────────────────────────────────\n",
      "«                                                                      \n",
      "«    q_1: ─────────────────────────────────────────────────────────────\n",
      "«                             ┌───┐ ┌─────────────────┐                \n",
      "«    q_2: ────────────────────┤ Z ├─┤ Initialize(1,0) ├─X──────────────\n",
      "«         ┌─────────────────┐ └─╥─┘ └─────────────────┘ │              \n",
      "«    q_3: ┤ Initialize(1,0) ├───╫───────────────────────X──────────────\n",
      "«         └──────┬───┬──────┘   ║                       │ ┌───┐┌───┐┌─┐\n",
      "«    q_4: ───────┤ H ├──────────╫───────────────────────■─┤ H ├┤ X ├┤M├\n",
      "«                └───┘       ┌──╨──┐                      └───┘└───┘└╥┘\n",
      "«  crz: 1/═══════════════════╡ = 1 ╞═════════════════════════════════╬═\n",
      "«                            └─────┘                                 ║ \n",
      "«  crx: 1/═══════════════════════════════════════════════════════════╬═\n",
      "«                                                                    ║ \n",
      "«cswap: 1/═══════════════════════════════════════════════════════════╩═\n",
      "«                                                                    0 \n"
     ]
    },
    {
     "data": {
      "image/png": "[encoded data removed]",
      "text/plain": [
       "<Figure size 504x360 with 1 Axes>"
      ]
     },
     "execution_count": 36,
     "metadata": {},
     "output_type": "execute_result"
    }
   ],
   "source": [
    "## SETUP\n",
    "# Protocol uses 3 qubits and 2 classical bits in 2 different registers\n",
    "qr = QuantumRegister(5, name=\"q\")\n",
    "crz, crx = ClassicalRegister(1, name=\"crz\"), ClassicalRegister(1, name=\"crx\")\n",
    "qc = QuantumCircuit(qr, crz, crx)\n",
    "\n",
    "qc.ry(2 * np.arctan(np.sqrt(2)), 3)\n",
    "qc.rx(np.pi/6, 3) \n",
    "\n",
    "qc.ry(2 * np.arctan(np.sqrt(2)), 0)\n",
    "qc.rx(np.pi/6, 0) \n",
    "qc.barrier()\n",
    "## STEP 1\n",
    "create_bell_pair(qc, 1, 2)\n",
    "\n",
    "## STEP 2\n",
    "qc.barrier() # Use barrier to separate steps\n",
    "alice_gates(qc, 0, 1)\n",
    "\n",
    "## STEP 3\n",
    "measure_and_send(qc, 0, 1)\n",
    "\n",
    "## STEP 4\n",
    "qc.barrier() # Use barrier to separate steps\n",
    "bob_gates(qc, 2, crz, crx)\n",
    "qc.initialize([1,0],2)\n",
    "qc.initialize([1,0],3)\n",
    "qc.h(4)\n",
    "qc.cswap(4,2,3)\n",
    "qc.h(4)\n",
    "qc.x(4)\n",
    "\n",
    "cr_result = ClassicalRegister(1,name=\"cswap\")\n",
    "qc.add_register(cr_result)\n",
    "qc.measure(4,cr_result)\n",
    "print(qc)\n",
    "sim = Aer.get_backend('aer_simulator')\n",
    "t_qc = transpile(qc, sim)\n",
    "t_qc.save_statevector()\n",
    "counts = sim.run(t_qc).result().get_counts()\n",
    "qubit_counts = [marginal_counts(counts, [qubit]) for qubit in range(3)]\n",
    "plot_histogram(qubit_counts)"
   ]
  },
  {
   "cell_type": "markdown",
   "id": "427b0172",
   "metadata": {},
   "source": [
    "### 2(b)[3]"
   ]
  },
  {
   "cell_type": "code",
   "execution_count": 39,
   "id": "7d6d2d56",
   "metadata": {},
   "outputs": [],
   "source": [
    "def metrics(counts):\n",
    "    phi_plus, psi_plus, phi_minus, psi_minus = 0, 0, 0, 0 \n",
    "\n",
    "    for result in counts:        \n",
    "        if (result[3]=='0' and result[0]=='0'): \n",
    "            phi_plus += counts[result]\n",
    "        elif (result[3]=='0' and result[0]=='1'): \n",
    "            psi_plus += counts[result]\n",
    "        elif (result[3]=='1' and result[0]=='0'): \n",
    "            phi_minus += counts[result]\n",
    "        elif (result[3]=='1' and result[0]=='1'): \n",
    "            psi_minus += counts[result]\n",
    "\n",
    "    total = phi_plus + psi_plus + phi_minus + psi_minus\n",
    "    print('total:', total)\n",
    "\n",
    "    print('phi+:', phi_plus, ',', 'psi+:', psi_plus, ',', 'phi-:', phi_minus, ',', 'psi-:', psi_minus)\n"
   ]
  },
  {
   "cell_type": "code",
   "execution_count": 46,
   "id": "752e5e90",
   "metadata": {},
   "outputs": [
    {
     "name": "stdout",
     "output_type": "stream",
     "text": [
      "         ┌───┐      ░               ░      ┌───┐ ░ ┌─┐         \n",
      "qbits_0: ┤ H ├──■───░───────────────░───■──┤ H ├─░─┤M├─────────\n",
      "         └───┘┌─┴─┐ ░      ┌───┐    ░   │  └───┘ ░ └╥┘┌─┐      \n",
      "qbits_1: ─────┤ X ├─░───■──┤ H ├─■──░───┼────────░──╫─┤M├──────\n",
      "         ┌───┐└───┘ ░ ┌─┴─┐└───┘ │  ░   │        ░  ║ └╥┘┌─┐   \n",
      "qbits_2: ┤ H ├──■───░─┤ X ├──■───┼──░───┼────────░──╫──╫─┤M├───\n",
      "         └───┘┌─┴─┐ ░ └───┘┌─┴─┐ │  ░ ┌─┴─┐      ░  ║  ║ └╥┘┌─┐\n",
      "qbits_3: ─────┤ X ├─░──────┤ X ├─■──░─┤ X ├──────░──╫──╫──╫─┤M├\n",
      "              └───┘ ░      └───┘    ░ └───┘      ░  ║  ║  ║ └╥┘\n",
      "cbits: 4/═══════════════════════════════════════════╩══╩══╩══╩═\n",
      "                                                    0  1  2  3 \n"
     ]
    },
    {
     "data": {
      "image/png": "[encoded data removed]",
      "text/plain": [
       "<Figure size 504x360 with 1 Axes>"
      ]
     },
     "execution_count": 46,
     "metadata": {},
     "output_type": "execute_result"
    }
   ],
   "source": [
    "\n",
    "qbits = QuantumRegister(4, 'qbits')\n",
    "cbits = ClassicalRegister(4, 'cbits')\n",
    "sys = QuantumCircuit(qbits, cbits)\n",
    "\n",
    "# creating bell-pairs\n",
    "sys.h(qbits[0])\n",
    "sys.cx(qbits[0], qbits[1])\n",
    "\n",
    "sys.h(qbits[2])\n",
    "sys.cx(qbits[2], qbits[3])\n",
    "\n",
    "sys.barrier()\n",
    "\n",
    "# # transferring one qubit to channel\n",
    "# sys.swap(qbits[1], qbits[2])\n",
    "\n",
    "sys.cx(qbits[1],qbits[2])\n",
    "sys.h(qbits[1])\n",
    "sys.cx(qbits[2],qbits[3])\n",
    "sys.cz(qbits[1],qbits[3])\n",
    "sys.barrier()\n",
    "\n",
    "# checking fidelity with bell-basis measurement \n",
    "sys.cx(qbits[0], qbits[3])\n",
    "sys.h(qbits[0])\n",
    "\n",
    "sys.barrier()\n",
    "sys.measure(qbits,cbits)\n",
    "# measuring qubits\n",
    "print(sys)\n",
    "shots = 8192\n",
    "sim = Aer.get_backend('aer_simulator')\n",
    "t_qc = transpile(sys, sim)\n",
    "t_qc.save_statevector()\n",
    "counts = sim.run(t_qc).result().get_counts()\n",
    "qubit_counts = [marginal_counts(counts, [qubit]) for qubit in range(4)]\n",
    "plot_histogram(qubit_counts)"
   ]
  },
  {
   "cell_type": "markdown",
   "id": "7a3326f8",
   "metadata": {},
   "source": [
    "# Q3[4]"
   ]
  },
  {
   "cell_type": "code",
   "execution_count": 1,
   "id": "438fbd12",
   "metadata": {},
   "outputs": [],
   "source": [
    "from qiskit import *\n",
    "from qiskit.visualization import plot_histogram\n",
    "from numpy.random import randint\n",
    "import numpy as np\n",
    "from math import pi\n",
    "import time"
   ]
  },
  {
   "cell_type": "code",
   "execution_count": 7,
   "id": "c450fae7",
   "metadata": {},
   "outputs": [],
   "source": [
    "def encode_message(bits, bases):\n",
    "    message = []\n",
    "    for i in range(n):\n",
    "        qc = QuantumCircuit(1,1)\n",
    "        if bases[i] == 0: # Prepare qubit in Z-basis\n",
    "            if bits[i] == 0:\n",
    "                pass \n",
    "            else:\n",
    "                qc.x(0)\n",
    "        else: # Prepare qubit in X-basis\n",
    "            if bits[i] == 0:\n",
    "                qc.h(0)\n",
    "            else:\n",
    "                qc.x(0)\n",
    "                qc.h(0)\n",
    "        qc.barrier()\n",
    "        message.append(qc)\n",
    "    return message\n",
    "\n",
    "def encode_message_in_three_bases(bits, bases):\n",
    "    message = []\n",
    "    for i in range(n):\n",
    "        qc = QuantumCircuit(1,1)\n",
    "        if bases[i] == 0: # Prepare qubit in Z-basis\n",
    "            if bits[i] == 0:\n",
    "                pass \n",
    "            else:\n",
    "                qc.x(0)\n",
    "        elif bases[i] == 1: # Prepare qubit in X-basis\n",
    "            if bits[i] == 0:\n",
    "                qc.h(0)\n",
    "            else:\n",
    "                qc.x(0)\n",
    "                qc.h(0)\n",
    "        else:\n",
    "            if bits[i] == 0:\n",
    "                qc.h(0)\n",
    "                qc.s(0)\n",
    "            else:\n",
    "                qc.x(0)\n",
    "                qc.h(0)\n",
    "                qc.s(0)\n",
    "        qc.barrier()\n",
    "        message.append(qc)\n",
    "    return message\n",
    "\n",
    "\n",
    "def measure_message(message, bases):\n",
    "    backend = Aer.get_backend('aer_simulator')\n",
    "    measurements = []\n",
    "    for q in range(n):\n",
    "        if bases[q] == 0: # measuring in Z-basis\n",
    "            message[q].measure(0,0)\n",
    "        if bases[q] == 1: # measuring in X-basis\n",
    "            message[q].h(0)\n",
    "            message[q].measure(0,0)\n",
    "        aer_sim = Aer.get_backend('aer_simulator')\n",
    "        qobj = assemble(message[q], shots=1, memory=True)\n",
    "        result = aer_sim.run(qobj).result()\n",
    "        measured_bit = int(result.get_memory()[0])\n",
    "        measurements.append(measured_bit)\n",
    "    return measurements\n",
    "\n",
    "def intercept_message(message, bases):\n",
    "    backend = Aer.get_backend('aer_simulator')\n",
    "    measurements = []\n",
    "    for q in range(n):\n",
    "        if bases[q] == 0: # measuring in Z-basis\n",
    "            message[q].measure(0,0)\n",
    "        if bases[q] == 1: # measuring in X-basis\n",
    "            message[q].h(0)\n",
    "            message[q].measure(0,0)\n",
    "        aer_sim = Aer.get_backend('aer_simulator')\n",
    "        qobj = assemble(message[q], shots=1, memory=True)\n",
    "        result = aer_sim.run(qobj).result()\n",
    "        measured_bit = int(result.get_memory()[0])\n",
    "        measurements.append(measured_bit)\n",
    "    return measurements\n",
    "\n",
    "def intercept_message_using_breidbart_basis(message, bases):\n",
    "    backend = Aer.get_backend('aer_simulator')\n",
    "    measurements = []\n",
    "    for q in range(n):\n",
    "        message[q].ry(-np.pi/4,0)\n",
    "        message[q].measure(0,0)\n",
    "        aer_sim = Aer.get_backend('aer_simulator')\n",
    "        qobj = assemble(message[q], shots=1, memory=True)\n",
    "        result = aer_sim.run(qobj).result()\n",
    "        measured_bit = int(result.get_memory()[0])\n",
    "        measurements.append(measured_bit)\n",
    "    return measurements\n",
    "\n",
    "\n",
    "def intercept_message_in_three_bases(message, bases):\n",
    "    backend = Aer.get_backend('aer_simulator')\n",
    "    measurements = []\n",
    "    for q in range(n):\n",
    "        if bases[q] == 0: # measuring in Z-basis\n",
    "            message[q].measure(0,0)\n",
    "        if bases[q] == 1: # measuring in X-basis\n",
    "            message[q].h(0)\n",
    "            message[q].measure(0,0)\n",
    "        if bases[q] == 2:\n",
    "            message[q].sdg(0)\n",
    "            message[q].h(0)\n",
    "            message[q].measure(0,0)\n",
    "        aer_sim = Aer.get_backend('aer_simulator')\n",
    "        qobj = assemble(message[q], shots=1, memory=True)\n",
    "        result = aer_sim.run(qobj).result()\n",
    "        measured_bit = int(result.get_memory()[0])\n",
    "        measurements.append(measured_bit)\n",
    "    return measurements\n",
    "\n",
    "def intercept_message_the_best_in_three_bases(message, bases):\n",
    "    backend = Aer.get_backend('aer_simulator')\n",
    "    measurements = []\n",
    "    for q in range(n): \n",
    "        message[q].rz(-np.pi/4,0)\n",
    "        message[q].ry(-np.arccos(1/np.sqrt(3)),0)\n",
    "        message[q].measure(0,0)\n",
    "        aer_sim = Aer.get_backend('aer_simulator')\n",
    "        qobj = assemble(message[q], shots=1, memory=True)\n",
    "        result = aer_sim.run(qobj).result()\n",
    "        measured_bit = int(result.get_memory()[0])\n",
    "        measurements.append(measured_bit)\n",
    "    return measurements\n",
    "\n",
    "\n",
    "def remove_garbage(a_bases, b_bases, bits):\n",
    "    good_bits = []\n",
    "    for q in range(n):\n",
    "        if a_bases[q] == b_bases[q]:\n",
    "            # If both used the same basis, add\n",
    "            # this to the list of 'good' bits\n",
    "            good_bits.append(bits[q])\n",
    "    return good_bits\n",
    "\n",
    "def sample_bits(bits, selection):\n",
    "    sample = []\n",
    "    for i in selection:\n",
    "        # use np.mod to make sure the\n",
    "        # bit we sample is always in \n",
    "        # the list range\n",
    "        i = np.mod(i, len(bits))\n",
    "        # pop(i) removes the element of the\n",
    "        # list at index 'i'\n",
    "        sample.append(bits.pop(i))\n",
    "    return sample"
   ]
  },
  {
   "cell_type": "code",
   "execution_count": 7,
   "id": "85ace7c1",
   "metadata": {},
   "outputs": [
    {
     "name": "stdout",
     "output_type": "stream",
     "text": [
      "correct percentage:  74.2 %\n"
     ]
    }
   ],
   "source": [
    "np.random.seed(seed=round(time.time()))\n",
    "n = 1000\n",
    "\n",
    "## Step 1\n",
    "# Alice generates bits\n",
    "alice_bits = randint(2, size=n)\n",
    "\n",
    "## Step 2\n",
    "# Create an array to tell us which qubits\n",
    "# are encoded in which bases\n",
    "alice_bases = randint(2, size=n)\n",
    "message = encode_message(alice_bits, alice_bases)\n",
    "\n",
    "## Interception!!\n",
    "eve_bases = randint(2, size=n)\n",
    "intercepted_message = intercept_message(message, eve_bases)\n",
    "\n",
    "## Step 3\n",
    "# Decide which basis to measure in:\n",
    "bob_bases = randint(2, size=n)\n",
    "bob_results = measure_message(message, bob_bases)\n",
    "\n",
    "## Step 4\n",
    "alice_key = remove_garbage(alice_bases, bob_bases, alice_bits)\n",
    "bob_key = remove_garbage(alice_bases, bob_bases, bob_results)\n",
    "correct_bit = 0\n",
    "for i in range(n):\n",
    "    if(alice_bits[i] == intercepted_message[i]):\n",
    "        correct_bit = correct_bit + 1\n",
    "print(\"correct percentage: \", correct_bit/n*100, \"%\")"
   ]
  },
  {
   "cell_type": "code",
   "execution_count": 114,
   "id": "aac6e29d",
   "metadata": {},
   "outputs": [
    {
     "name": "stdout",
     "output_type": "stream",
     "text": [
      "correct percentage:  82.89999999999999 %\n"
     ]
    }
   ],
   "source": [
    "np.random.seed(seed=round(time.time()))\n",
    "n = 1000\n",
    "\n",
    "## Step 1\n",
    "# Alice generates bits\n",
    "alice_bits = randint(2, size=n)\n",
    "\n",
    "## Step 2\n",
    "# Create an array to tell us which qubits\n",
    "# are encoded in which bases\n",
    "alice_bases = randint(2, size=n)\n",
    "\n",
    "message = encode_message(alice_bits, alice_bases)\n",
    "\n",
    "## Interception!!\n",
    "eve_bases = randint(2, size=n)\n",
    "\n",
    "intercepted_message = intercept_message_using_breidbart_basis(message, eve_bases)\n",
    "\n",
    "## Step 3\n",
    "# Decide which basis to measure in:\n",
    "bob_bases = randint(2, size=n)\n",
    "bob_results = measure_message(message, bob_bases)\n",
    "\n",
    "## Step 4\n",
    "alice_key = remove_garbage(alice_bases, bob_bases, alice_bits)\n",
    "bob_key = remove_garbage(alice_bases, bob_bases, bob_results)\n",
    "correct_bit = 0\n",
    "for i in range(n):\n",
    "    if(alice_bits[i] == intercepted_message[i]):\n",
    "        correct_bit = correct_bit + 1\n",
    "print(\"correct percentage: \", correct_bit/n*100, \"%\")"
   ]
  },
  {
   "cell_type": "code",
   "execution_count": 8,
   "id": "652dff07",
   "metadata": {},
   "outputs": [
    {
     "name": "stdout",
     "output_type": "stream",
     "text": [
      "correct percentage:  69.3 %\n"
     ]
    }
   ],
   "source": [
    "np.random.seed(seed=round(time.time()))\n",
    "n = 1000\n",
    "\n",
    "## Step 1\n",
    "# Alice generates bits\n",
    "alice_bits = randint(2, size=n)\n",
    "\n",
    "## Step 2\n",
    "# Create an array to tell us which qubits\n",
    "# are encoded in which bases\n",
    "alice_bases = randint(3, size=n)\n",
    "message = encode_message_in_three_bases(alice_bits, alice_bases)\n",
    "\n",
    "## Interception!!\n",
    "eve_bases = randint(2, size=n)\n",
    "intercepted_message = intercept_message_in_three_bases(message, eve_bases)\n",
    "\n",
    "## Step 3\n",
    "# Decide which basis to measure in:\n",
    "bob_bases = randint(2, size=n)\n",
    "bob_results = measure_message(message, bob_bases)\n",
    "\n",
    "## Step 4\n",
    "alice_key = remove_garbage(alice_bases, bob_bases, alice_bits)\n",
    "bob_key = remove_garbage(alice_bases, bob_bases, bob_results)\n",
    "correct_bit = 0\n",
    "for i in range(n):\n",
    "    if(alice_bits[i] == intercepted_message[i]):\n",
    "        correct_bit = correct_bit + 1\n",
    "print(\"correct percentage: \", correct_bit/n*100, \"%\")"
   ]
  },
  {
   "cell_type": "code",
   "execution_count": 11,
   "id": "9f0e5bf3",
   "metadata": {},
   "outputs": [
    {
     "name": "stdout",
     "output_type": "stream",
     "text": [
      "correct percentage:  77.9 %\n"
     ]
    }
   ],
   "source": [
    "np.random.seed(seed=round(time.time()))\n",
    "n = 1000\n",
    "## Step 1\n",
    "# Alice generates bits\n",
    "alice_bits = randint(2, size=n)\n",
    "## Step 2\n",
    "# Create an array to tell us which qubits\n",
    "# are encoded in which bases\n",
    "alice_bases = randint(3, size=n)\n",
    "message = encode_message_in_three_bases(alice_bits, alice_bases)\n",
    "\n",
    "## Interception!!\n",
    "eve_bases = randint(2, size=n)\n",
    "intercepted_message = intercept_message_the_best_in_three_bases(message, eve_bases)\n",
    "\n",
    "## Step 3\n",
    "# Decide which basis to measure in:\n",
    "bob_bases = randint(2, size=n)\n",
    "bob_results = measure_message(message, bob_bases)\n",
    "\n",
    "## Step 4\n",
    "alice_key = remove_garbage(alice_bases, bob_bases, alice_bits)\n",
    "bob_key = remove_garbage(alice_bases, bob_bases, bob_results)\n",
    "correct_bit = 0\n",
    "for i in range(n):\n",
    "    if(alice_bits[i] == intercepted_message[i]):\n",
    "        correct_bit = correct_bit + 1\n",
    "print(\"correct percentage: \", correct_bit/n*100, \"%\")"
   ]
  },
  {
   "cell_type": "markdown",
   "id": "8b72b5a4",
   "metadata": {},
   "source": [
    "## Reference"
   ]
  },
  {
   "cell_type": "markdown",
   "id": "010c43a1",
   "metadata": {},
   "source": [
    "[1] https://qiskit.org/textbook/ch-algorithms/superdense-coding.html \\\n",
    "[2] https://qiskit.org/textbook/ch-algorithms/teleportation.html \\\n",
    "[3] https://github.com/SowmitraDas/Quantum-Repeater-using-Quantum-Circuits/blob/main/Elements%20-%20Entanglement%20Swapping.ipynb \\\n",
    "[4]https://qiskit.org/textbook/ch-algorithms/quantum-key-distribution.html"
   ]
  },
  {
   "cell_type": "code",
   "execution_count": null,
   "id": "5148f6e8",
   "metadata": {},
   "outputs": [],
   "source": []
  }
 ],
 "metadata": {
  "kernelspec": {
   "display_name": "Python 3 (ipykernel)",
   "language": "python",
   "name": "python3"
  },
  "language_info": {
   "codemirror_mode": {
    "name": "ipython",
    "version": 3
   },
   "file_extension": ".py",
   "mimetype": "text/x-python",
   "name": "python",
   "nbconvert_exporter": "python",
   "pygments_lexer": "ipython3",
   "version": "3.9.7"
  }
 },
 "nbformat": 4,
 "nbformat_minor": 5
}
