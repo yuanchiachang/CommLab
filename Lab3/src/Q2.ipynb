{
 "cells": [
  {
   "cell_type": "markdown",
   "id": "ecd3c00e",
   "metadata": {},
   "source": [
    "# Lab 3:  Quantum Computing Algorithms Q2\n",
    "* Author: B08901049 Yuan-Chia Chang\n",
    "* Instructor: Professor Hao-Chung Cheng\n",
    "* TA: Chia-Yi Chou\n",
    "* Created: 10/31/2021(Sun)\n",
    "* Last edited: 11/3/2021(Wed)\n",
    "* Contact: b08901049@ntu.edu.tw\n",
    "* Collaborator: B08901002 Chen-Han Lin, B08901209 Yu-Hsiang Lin"
   ]
  },
  {
   "cell_type": "code",
   "execution_count": 1,
   "id": "0f734304",
   "metadata": {},
   "outputs": [],
   "source": [
    "# Do the necessary imports\n",
    "import numpy as np\n",
    "from qiskit import *\n",
    "from qiskit.visualization import plot_histogram\n",
    "from qiskit.extensions import Initialize\n",
    "from qiskit.quantum_info import random_statevector"
   ]
  },
  {
   "cell_type": "markdown",
   "id": "dc6d3ae7",
   "metadata": {},
   "source": [
    "### 2(a)"
   ]
  },
  {
   "cell_type": "code",
   "execution_count": 2,
   "id": "c55d2c83",
   "metadata": {},
   "outputs": [
    {
     "name": "stdout",
     "output_type": "stream",
     "text": [
      "[ 0.08767274-0.30224868j -0.09285521-0.07818406j -0.30971463-0.04088062j\n",
      " -0.05439344-0.16916707j -0.07445979+0.12033078j -0.04777409-0.0877172j\n",
      "  0.05042443-0.01429904j  0.47082412+0.05129328j -0.08767274+0.30224868j\n",
      "  0.09285521+0.07818406j  0.30971463+0.04088062j  0.05439344+0.16916707j\n",
      "  0.07445979-0.12033078j  0.04777409+0.0877172j  -0.05042443+0.01429904j\n",
      " -0.47082412-0.05129328j]\n",
      "[ 0.08767274-0.30224868j -0.09285521-0.07818406j -0.30971463-0.04088062j\n",
      " -0.05439344-0.16916707j -0.07445979+0.12033078j -0.04777409-0.0877172j\n",
      " -0.05042443+0.01429904j  0.47082412+0.05129328j -0.08767274+0.30224868j\n",
      "  0.09285521+0.07818406j  0.30971463+0.04088062j  0.05439344+0.16916707j\n",
      "  0.07445979-0.12033078j  0.04777409+0.0877172j   0.05042443-0.01429904j\n",
      " -0.47082412-0.05129328j]\n"
     ]
    },
    {
     "data": {
      "text/html": [
       "<pre style=\"word-wrap: normal;white-space: pre;background: #fff0;line-height: 1.1;font-family: &quot;Courier New&quot;,Courier,monospace\">     »\n",
       "x_0: »\n",
       "     »\n",
       "x_1: »\n",
       "     »\n",
       "x_2: »\n",
       "     »\n",
       "y_0: »\n",
       "     »\n",
       "c: 3/»\n",
       "     »\n",
       "«     ┌─────────────────────────────────────────────────────────────────────────────────────────────────────────────────────────────────────────────────────────────┐»\n",
       "«x_0: ┤0                                                                                                                                                            ├»\n",
       "«     │                                                                                                                                                             │»\n",
       "«x_1: ┤1 Initialize(0.12399-0.42744j,-0.13132-0.11057j,-0.438-0.057814j,-0.076924-0.23924j,-0.1053+0.17017j,-0.067563-0.12405j,0.071311-0.020222j,0.66585+0.07254j) ├»\n",
       "«     │                                                                                                                                                             │»\n",
       "«x_2: ┤2                                                                                                                                                            ├»\n",
       "«     └────────────────────────────────────────────────────────────────────────────┬───┬────────────────────────────────────────────────────────────────────────────┘»\n",
       "«y_0: ─────────────────────────────────────────────────────────────────────────────┤ X ├─────────────────────────────────────────────────────────────────────────────»\n",
       "«                                                                                  └───┘                                                                             »\n",
       "«c: 3/═══════════════════════════════════════════════════════════════════════════════════════════════════════════════════════════════════════════════════════════════»\n",
       "«                                                                                                                                                                    »\n",
       "«           ░ ┌───┐     ┌───┐ ░ \n",
       "«x_0: ──────░─┤ X ├──■──┤ X ├─░─\n",
       "«           ░ └───┘  │  └───┘ ░ \n",
       "«x_1: ──────░────────■────────░─\n",
       "«           ░        │        ░ \n",
       "«x_2: ──────░────────■────────░─\n",
       "«     ┌───┐ ░      ┌─┴─┐      ░ \n",
       "«y_0: ┤ H ├─░──────┤ X ├──────░─\n",
       "«     └───┘ ░      └───┘      ░ \n",
       "«c: 3/══════════════════════════\n",
       "«                               </pre>"
      ],
      "text/plain": [
       "     »\n",
       "x_0: »\n",
       "     »\n",
       "x_1: »\n",
       "     »\n",
       "x_2: »\n",
       "     »\n",
       "y_0: »\n",
       "     »\n",
       "c: 3/»\n",
       "     »\n",
       "«     ┌─────────────────────────────────────────────────────────────────────────────────────────────────────────────────────────────────────────────────────────────┐»\n",
       "«x_0: ┤0                                                                                                                                                            ├»\n",
       "«     │                                                                                                                                                             │»\n",
       "«x_1: ┤1 Initialize(0.12399-0.42744j,-0.13132-0.11057j,-0.438-0.057814j,-0.076924-0.23924j,-0.1053+0.17017j,-0.067563-0.12405j,0.071311-0.020222j,0.66585+0.07254j) ├»\n",
       "«     │                                                                                                                                                             │»\n",
       "«x_2: ┤2                                                                                                                                                            ├»\n",
       "«     └────────────────────────────────────────────────────────────────────────────┬───┬────────────────────────────────────────────────────────────────────────────┘»\n",
       "«y_0: ─────────────────────────────────────────────────────────────────────────────┤ X ├─────────────────────────────────────────────────────────────────────────────»\n",
       "«                                                                                  └───┘                                                                             »\n",
       "«c: 3/═══════════════════════════════════════════════════════════════════════════════════════════════════════════════════════════════════════════════════════════════»\n",
       "«                                                                                                                                                                    »\n",
       "«           ░ ┌───┐     ┌───┐ ░ \n",
       "«x_0: ──────░─┤ X ├──■──┤ X ├─░─\n",
       "«           ░ └───┘  │  └───┘ ░ \n",
       "«x_1: ──────░────────■────────░─\n",
       "«           ░        │        ░ \n",
       "«x_2: ──────░────────■────────░─\n",
       "«     ┌───┐ ░      ┌─┴─┐      ░ \n",
       "«y_0: ┤ H ├─░──────┤ X ├──────░─\n",
       "«     └───┘ ░      └───┘      ░ \n",
       "«c: 3/══════════════════════════\n",
       "«                               "
      ]
     },
     "execution_count": 2,
     "metadata": {},
     "output_type": "execute_result"
    }
   ],
   "source": [
    "rand_sv = random_statevector(8)\n",
    "x = QuantumRegister(3, 'x')\n",
    "y = QuantumRegister(1, 'y')\n",
    "c = ClassicalRegister(3, 'c')\n",
    "qc = QuantumCircuit(x,y, c)\n",
    "qc.initialize(rand_sv.data,[0,1,2])\n",
    "qc.x(3)\n",
    "qc.h(3)\n",
    "backend = Aer.get_backend('statevector_simulator')\n",
    "job = backend.run(qc)\n",
    "result = job.result()\n",
    "outputstate = result.get_statevector(qc)\n",
    "print(outputstate)\n",
    "qc.barrier()\n",
    "qc.x(0)\n",
    "qc.mct(list(range(3)), y)\n",
    "qc.x(0)\n",
    "qc.barrier()\n",
    "\n",
    "backend = Aer.get_backend('statevector_simulator')\n",
    "job = backend.run(qc)\n",
    "result = job.result()\n",
    "outputstate = result.get_statevector(qc)\n",
    "print(outputstate)\n",
    "qc.draw()"
   ]
  },
  {
   "cell_type": "markdown",
   "id": "27438698",
   "metadata": {},
   "source": [
    "#### 2(b)"
   ]
  },
  {
   "cell_type": "code",
   "execution_count": 3,
   "id": "9bf893ff",
   "metadata": {
    "scrolled": true
   },
   "outputs": [
    {
     "data": {
      "text/html": [
       "<pre style=\"word-wrap: normal;white-space: pre;background: #fff0;line-height: 1.1;font-family: &quot;Courier New&quot;,Courier,monospace\">     ┌───┐          ┌───┐     \n",
       "x_0: ┤ X ├───────■──┤ X ├─────\n",
       "     ├───┤       │  ├───┤     \n",
       "x_1: ┤ X ├───────■──┤ X ├─────\n",
       "     ├───┤┌───┐┌─┴─┐├───┤┌───┐\n",
       "x_2: ┤ X ├┤ H ├┤ X ├┤ H ├┤ X ├\n",
       "     └───┘└───┘└───┘└───┘└───┘</pre>"
      ],
      "text/plain": [
       "     ┌───┐          ┌───┐     \n",
       "x_0: ┤ X ├───────■──┤ X ├─────\n",
       "     ├───┤       │  ├───┤     \n",
       "x_1: ┤ X ├───────■──┤ X ├─────\n",
       "     ├───┤┌───┐┌─┴─┐├───┤┌───┐\n",
       "x_2: ┤ X ├┤ H ├┤ X ├┤ H ├┤ X ├\n",
       "     └───┘└───┘└───┘└───┘└───┘"
      ]
     },
     "execution_count": 3,
     "metadata": {},
     "output_type": "execute_result"
    }
   ],
   "source": [
    "x = QuantumRegister(3, 'x')\n",
    "qc = QuantumCircuit(x)\n",
    "qc.x(x)\n",
    "qc.h(2)\n",
    "qc.mct(list(range(2)), 2)\n",
    "qc.h(2)\n",
    "qc.x(x)\n",
    "\n",
    "oracle_inverse = qc.to_gate()\n",
    "oracle_inverse.name = \"inverse\"\n",
    "qc.draw()"
   ]
  },
  {
   "cell_type": "markdown",
   "id": "971224a2",
   "metadata": {},
   "source": [
    "#### 2(c)"
   ]
  },
  {
   "cell_type": "code",
   "execution_count": 4,
   "id": "b632a747",
   "metadata": {},
   "outputs": [
    {
     "data": {
      "text/html": [
       "<pre style=\"word-wrap: normal;white-space: pre;background: #fff0;line-height: 1.1;font-family: &quot;Courier New&quot;,Courier,monospace\">     ┌───┐     ┌───┐\n",
       "x_0: ┤ X ├──■──┤ X ├\n",
       "     └───┘  │  └───┘\n",
       "x_1: ───────■───────\n",
       "            │       \n",
       "x_2: ───────■───────\n",
       "          ┌─┴─┐     \n",
       "y_0: ─────┤ X ├─────\n",
       "          └───┘     </pre>"
      ],
      "text/plain": [
       "     ┌───┐     ┌───┐\n",
       "x_0: ┤ X ├──■──┤ X ├\n",
       "     └───┘  │  └───┘\n",
       "x_1: ───────■───────\n",
       "            │       \n",
       "x_2: ───────■───────\n",
       "          ┌─┴─┐     \n",
       "y_0: ─────┤ X ├─────\n",
       "          └───┘     "
      ]
     },
     "execution_count": 4,
     "metadata": {},
     "output_type": "execute_result"
    }
   ],
   "source": [
    "x = QuantumRegister(3, 'x')\n",
    "y = QuantumRegister(1, 'y')\n",
    "qc = QuantumCircuit(x,y)\n",
    "#qc = QuantumCircuit(x)\n",
    "qc.x(0)\n",
    "qc.mct(list(range(3)), 3)\n",
    "qc.x(0)\n",
    "qc.draw()\n",
    "oracle_ex3 = qc.to_gate()\n",
    "oracle_ex3.name = \"U$_\\omega$\"\n",
    "qc.draw()"
   ]
  },
  {
   "cell_type": "code",
   "execution_count": 21,
   "id": "8bfc8cf8",
   "metadata": {},
   "outputs": [
    {
     "name": "stdout",
     "output_type": "stream",
     "text": [
      "137\n",
      "115\n",
      "130\n",
      "126\n",
      "128\n",
      "138\n",
      "117\n",
      "119\n",
      "132\n",
      "118\n",
      "126\n",
      "115\n",
      "128\n",
      "127\n",
      "127\n",
      "135\n",
      "134\n",
      "121\n",
      "128\n",
      "114\n"
     ]
    }
   ],
   "source": [
    "x = QuantumRegister(3, 'x')\n",
    "y = QuantumRegister(1, 'y')\n",
    "c = ClassicalRegister(3, 'c')\n",
    "qc = QuantumCircuit(x,y, c)\n",
    "#qc = QuantumCircuit(x, c)\n",
    "qc.h(x)\n",
    "qc.x(y)\n",
    "qc.h(y)\n",
    "for i in range(0):\n",
    "    qc.append(oracle_ex3,[0,1,2,3])\n",
    "    qc.h(x)\n",
    "    qc.append(oracle_inverse,[0,1,2])\n",
    "    qc.h(x)\n",
    "qc.measure(x,c)\n",
    "qc.draw()"
   ]
  },
  {
   "cell_type": "code",
   "execution_count": 15,
   "id": "cdea0523",
   "metadata": {},
   "outputs": [
    {
     "data": {
      "image/png": "[encoded data removed]",
      "text/plain": [
       "<Figure size 504x360 with 1 Axes>"
      ]
     },
     "execution_count": 15,
     "metadata": {},
     "output_type": "execute_result"
    }
   ],
   "source": [
    "aer_sim = Aer.get_backend('aer_simulator')\n",
    "transpiled_qc = transpile(qc, aer_sim)\n",
    "qobj = assemble(transpiled_qc)\n",
    "results = aer_sim.run(qobj).result()\n",
    "counts = results.get_counts()\n",
    "plot_histogram(counts)"
   ]
  },
  {
   "cell_type": "code",
   "execution_count": 24,
   "id": "fea348f3",
   "metadata": {},
   "outputs": [
    {
     "name": "stdout",
     "output_type": "stream",
     "text": [
      "24\n"
     ]
    }
   ],
   "source": [
    " for j in range(21):\n",
    "    x = QuantumRegister(3, 'x')\n",
    "    y = QuantumRegister(1, 'y')\n",
    "    c = ClassicalRegister(3, 'c')\n",
    "    qc = QuantumCircuit(x,y, c)\n",
    "    #qc = QuantumCircuit(x, c)\n",
    "    qc.h(x)\n",
    "    qc.x(y)\n",
    "    qc.h(y)\n",
    "    for i in range(j):\n",
    "        qc.append(oracle_ex3,[0,1,2,3])\n",
    "        qc.h(x)\n",
    "        qc.append(oracle_inverse,[0,1,2])\n",
    "        qc.h(x)\n",
    "    qc.measure(x,c)\n",
    "    qc.draw()\n",
    "    aer_sim = Aer.get_backend('aer_simulator')\n",
    "    transpiled_qc = transpile(qc, aer_sim)\n",
    "    qobj = assemble(transpiled_qc)\n",
    "    results = aer_sim.run(qobj).result()\n",
    "    counts = results.get_counts()\n",
    "    print(counts['110'])"
   ]
  },
  {
   "cell_type": "markdown",
   "id": "99ad3c13",
   "metadata": {},
   "source": [
    "#### 2(d)"
   ]
  },
  {
   "cell_type": "code",
   "execution_count": 7,
   "id": "2ed0b068",
   "metadata": {},
   "outputs": [
    {
     "name": "stdout",
     "output_type": "stream",
     "text": [
      "[-1.84550773e-01-0.33549817j -3.86148818e-02+0.24279525j\n",
      " -3.41798990e-04-0.15419689j -1.53490923e-01+0.06213209j\n",
      "  5.57171041e-02+0.34961336j -4.60495503e-03-0.12291762j\n",
      "  5.51059799e-01-0.00755489j -4.60131526e-01-0.29297756j]\n",
      "[-1.84550773e-01-0.33549817j -3.86148818e-02+0.24279525j\n",
      " -3.41798990e-04-0.15419689j -1.53490923e-01+0.06213209j\n",
      "  5.57171041e-02+0.34961336j  4.60495503e-03+0.12291762j\n",
      " -5.51059799e-01+0.00755489j -4.60131526e-01-0.29297756j]\n"
     ]
    },
    {
     "data": {
      "text/html": [
       "<pre style=\"word-wrap: normal;white-space: pre;background: #fff0;line-height: 1.1;font-family: &quot;Courier New&quot;,Courier,monospace\">     »\n",
       "x_0: »\n",
       "     »\n",
       "x_1: »\n",
       "     »\n",
       "x_2: »\n",
       "     »\n",
       "c: 3/»\n",
       "     »\n",
       "«     ┌─────────────────────────────────────────────────────────────────────────────────────────────────────────────────────────────────────────────────────────────────┐»\n",
       "«x_0: ┤0                                                                                                                                                                ├»\n",
       "«     │                                                                                                                                                                 │»\n",
       "«x_1: ┤1 Initialize(-0.18455-0.3355j,-0.038615+0.2428j,-0.0003418-0.1542j,-0.15349+0.062132j,0.055717+0.34961j,-0.004605-0.12292j,0.55106-0.0075549j,-0.46013-0.29298j) ├»\n",
       "«     │                                                                                                                                                                 │»\n",
       "«x_2: ┤2                                                                                                                                                                ├»\n",
       "«     └─────────────────────────────────────────────────────────────────────────────────────────────────────────────────────────────────────────────────────────────────┘»\n",
       "«c: 3/═══════════════════════════════════════════════════════════════════════════════════════════════════════════════════════════════════════════════════════════════════»\n",
       "«                                                                                                                                                                        »\n",
       "«      ░                                ░ \n",
       "«x_0: ─░────────■───────────────────────░─\n",
       "«      ░        │                       ░ \n",
       "«x_1: ─░────────┼──────────────■────────░─\n",
       "«      ░ ┌───┐┌─┴─┐┌───┐┌───┐┌─┴─┐┌───┐ ░ \n",
       "«x_2: ─░─┤ H ├┤ X ├┤ H ├┤ H ├┤ X ├┤ H ├─░─\n",
       "«      ░ └───┘└───┘└───┘└───┘└───┘└───┘ ░ \n",
       "«c: 3/════════════════════════════════════\n",
       "«                                         </pre>"
      ],
      "text/plain": [
       "     »\n",
       "x_0: »\n",
       "     »\n",
       "x_1: »\n",
       "     »\n",
       "x_2: »\n",
       "     »\n",
       "c: 3/»\n",
       "     »\n",
       "«     ┌─────────────────────────────────────────────────────────────────────────────────────────────────────────────────────────────────────────────────────────────────┐»\n",
       "«x_0: ┤0                                                                                                                                                                ├»\n",
       "«     │                                                                                                                                                                 │»\n",
       "«x_1: ┤1 Initialize(-0.18455-0.3355j,-0.038615+0.2428j,-0.0003418-0.1542j,-0.15349+0.062132j,0.055717+0.34961j,-0.004605-0.12292j,0.55106-0.0075549j,-0.46013-0.29298j) ├»\n",
       "«     │                                                                                                                                                                 │»\n",
       "«x_2: ┤2                                                                                                                                                                ├»\n",
       "«     └─────────────────────────────────────────────────────────────────────────────────────────────────────────────────────────────────────────────────────────────────┘»\n",
       "«c: 3/═══════════════════════════════════════════════════════════════════════════════════════════════════════════════════════════════════════════════════════════════════»\n",
       "«                                                                                                                                                                        »\n",
       "«      ░                                ░ \n",
       "«x_0: ─░────────■───────────────────────░─\n",
       "«      ░        │                       ░ \n",
       "«x_1: ─░────────┼──────────────■────────░─\n",
       "«      ░ ┌───┐┌─┴─┐┌───┐┌───┐┌─┴─┐┌───┐ ░ \n",
       "«x_2: ─░─┤ H ├┤ X ├┤ H ├┤ H ├┤ X ├┤ H ├─░─\n",
       "«      ░ └───┘└───┘└───┘└───┘└───┘└───┘ ░ \n",
       "«c: 3/════════════════════════════════════\n",
       "«                                         "
      ]
     },
     "execution_count": 7,
     "metadata": {},
     "output_type": "execute_result"
    }
   ],
   "source": [
    "rand_sv = random_statevector(8)\n",
    "x = QuantumRegister(3, 'x')\n",
    "c = ClassicalRegister(3, 'c')\n",
    "qc = QuantumCircuit(x, c)\n",
    "qc.initialize(rand_sv.data,[0,1,2])\n",
    "backend = Aer.get_backend('statevector_simulator')\n",
    "job = backend.run(qc)\n",
    "result = job.result()\n",
    "outputstate = result.get_statevector(qc)\n",
    "print(outputstate)\n",
    "qc.barrier()\n",
    "qc.h(2)\n",
    "qc.cx(0, 2)\n",
    "qc.h(2)\n",
    "qc.h(2)\n",
    "qc.cx(1, 2)\n",
    "qc.h(2)\n",
    "qc.barrier()\n",
    "\n",
    "backend = Aer.get_backend('statevector_simulator')\n",
    "job = backend.run(qc)\n",
    "result = job.result()\n",
    "outputstate = result.get_statevector(qc)\n",
    "print(outputstate)\n",
    "qc.draw()"
   ]
  },
  {
   "cell_type": "markdown",
   "id": "42029260",
   "metadata": {},
   "source": [
    "#### 2(e)"
   ]
  },
  {
   "cell_type": "code",
   "execution_count": 25,
   "id": "80535c7c",
   "metadata": {},
   "outputs": [
    {
     "data": {
      "text/html": [
       "<pre style=\"word-wrap: normal;white-space: pre;background: #fff0;line-height: 1.1;font-family: &quot;Courier New&quot;,Courier,monospace\">                                   \n",
       "x_0: ───────■──────────────────────\n",
       "            │                      \n",
       "x_1: ───────┼──────────────■───────\n",
       "     ┌───┐┌─┴─┐┌───┐┌───┐┌─┴─┐┌───┐\n",
       "x_2: ┤ H ├┤ X ├┤ H ├┤ H ├┤ X ├┤ H ├\n",
       "     └───┘└───┘└───┘└───┘└───┘└───┘</pre>"
      ],
      "text/plain": [
       "                                   \n",
       "x_0: ───────■──────────────────────\n",
       "            │                      \n",
       "x_1: ───────┼──────────────■───────\n",
       "     ┌───┐┌─┴─┐┌───┐┌───┐┌─┴─┐┌───┐\n",
       "x_2: ┤ H ├┤ X ├┤ H ├┤ H ├┤ X ├┤ H ├\n",
       "     └───┘└───┘└───┘└───┘└───┘└───┘"
      ]
     },
     "execution_count": 25,
     "metadata": {},
     "output_type": "execute_result"
    }
   ],
   "source": [
    "x = QuantumRegister(3, 'x')\n",
    "qc = QuantumCircuit(x)\n",
    "qc.h(2)\n",
    "qc.cx(0, 2)\n",
    "qc.h(2)\n",
    "qc.h(2)\n",
    "qc.cx(1, 2)\n",
    "qc.h(2)\n",
    "oracle_011or101 = qc.to_gate()\n",
    "oracle_011or101.name = \"U$_\\011or101$\"\n",
    "qc.draw()"
   ]
  },
  {
   "cell_type": "code",
   "execution_count": 30,
   "id": "cce81248",
   "metadata": {},
   "outputs": [
    {
     "data": {
      "text/html": [
       "<pre style=\"word-wrap: normal;white-space: pre;background: #fff0;line-height: 1.1;font-family: &quot;Courier New&quot;,Courier,monospace\">     ┌───┐┌─────────────┐┌───┐┌──────────┐┌───┐┌─────────────┐┌───┐┌──────────┐»\n",
       "x_0: ┤ H ├┤0            ├┤ H ├┤0         ├┤ H ├┤0            ├┤ H ├┤0         ├»\n",
       "     ├───┤│             │├───┤│          │├───┤│             │├───┤│          │»\n",
       "x_1: ┤ H ├┤1 U$_\tor101$ ├┤ H ├┤1 inverse ├┤ H ├┤1 U$_\tor101$ ├┤ H ├┤1 inverse ├»\n",
       "     ├───┤│             │├───┤│          │├───┤│             │├───┤│          │»\n",
       "x_2: ┤ H ├┤2            ├┤ H ├┤2         ├┤ H ├┤2            ├┤ H ├┤2         ├»\n",
       "     └───┘└─────────────┘└───┘└──────────┘└───┘└─────────────┘└───┘└──────────┘»\n",
       "c: 3/══════════════════════════════════════════════════════════════════════════»\n",
       "                                                                               »\n",
       "«     ┌───┐┌─────────────┐┌───┐┌──────────┐┌───┐┌─────────────┐┌───┐»\n",
       "«x_0: ┤ H ├┤0            ├┤ H ├┤0         ├┤ H ├┤0            ├┤ H ├»\n",
       "«     ├───┤│             │├───┤│          │├───┤│             │├───┤»\n",
       "«x_1: ┤ H ├┤1 U$_\tor101$ ├┤ H ├┤1 inverse ├┤ H ├┤1 U$_\tor101$ ├┤ H ├»\n",
       "«     ├───┤│             │├───┤│          │├───┤│             │├───┤»\n",
       "«x_2: ┤ H ├┤2            ├┤ H ├┤2         ├┤ H ├┤2            ├┤ H ├»\n",
       "«     └───┘└─────────────┘└───┘└──────────┘└───┘└─────────────┘└───┘»\n",
       "«c: 3/══════════════════════════════════════════════════════════════»\n",
       "«                                                                   »\n",
       "«     ┌──────────┐┌───┐┌─┐      \n",
       "«x_0: ┤0         ├┤ H ├┤M├──────\n",
       "«     │          │├───┤└╥┘┌─┐   \n",
       "«x_1: ┤1 inverse ├┤ H ├─╫─┤M├───\n",
       "«     │          │├───┤ ║ └╥┘┌─┐\n",
       "«x_2: ┤2         ├┤ H ├─╫──╫─┤M├\n",
       "«     └──────────┘└───┘ ║  ║ └╥┘\n",
       "«c: 3/══════════════════╩══╩══╩═\n",
       "«                       0  1  2 </pre>"
      ],
      "text/plain": [
       "     ┌───┐┌─────────────┐┌───┐┌──────────┐┌───┐┌─────────────┐┌───┐┌──────────┐»\n",
       "x_0: ┤ H ├┤0            ├┤ H ├┤0         ├┤ H ├┤0            ├┤ H ├┤0         ├»\n",
       "     ├───┤│             │├───┤│          │├───┤│             │├───┤│          │»\n",
       "x_1: ┤ H ├┤1 U$_\tor101$ ├┤ H ├┤1 inverse ├┤ H ├┤1 U$_\tor101$ ├┤ H ├┤1 inverse ├»\n",
       "     ├───┤│             │├───┤│          │├───┤│             │├───┤│          │»\n",
       "x_2: ┤ H ├┤2            ├┤ H ├┤2         ├┤ H ├┤2            ├┤ H ├┤2         ├»\n",
       "     └───┘└─────────────┘└───┘└──────────┘└───┘└─────────────┘└───┘└──────────┘»\n",
       "c: 3/══════════════════════════════════════════════════════════════════════════»\n",
       "                                                                               »\n",
       "«     ┌───┐┌─────────────┐┌───┐┌──────────┐┌───┐┌─────────────┐┌───┐»\n",
       "«x_0: ┤ H ├┤0            ├┤ H ├┤0         ├┤ H ├┤0            ├┤ H ├»\n",
       "«     ├───┤│             │├───┤│          │├───┤│             │├───┤»\n",
       "«x_1: ┤ H ├┤1 U$_\tor101$ ├┤ H ├┤1 inverse ├┤ H ├┤1 U$_\tor101$ ├┤ H ├»\n",
       "«     ├───┤│             │├───┤│          │├───┤│             │├───┤»\n",
       "«x_2: ┤ H ├┤2            ├┤ H ├┤2         ├┤ H ├┤2            ├┤ H ├»\n",
       "«     └───┘└─────────────┘└───┘└──────────┘└───┘└─────────────┘└───┘»\n",
       "«c: 3/══════════════════════════════════════════════════════════════»\n",
       "«                                                                   »\n",
       "«     ┌──────────┐┌───┐┌─┐      \n",
       "«x_0: ┤0         ├┤ H ├┤M├──────\n",
       "«     │          │├───┤└╥┘┌─┐   \n",
       "«x_1: ┤1 inverse ├┤ H ├─╫─┤M├───\n",
       "«     │          │├───┤ ║ └╥┘┌─┐\n",
       "«x_2: ┤2         ├┤ H ├─╫──╫─┤M├\n",
       "«     └──────────┘└───┘ ║  ║ └╥┘\n",
       "«c: 3/══════════════════╩══╩══╩═\n",
       "«                       0  1  2 "
      ]
     },
     "execution_count": 30,
     "metadata": {},
     "output_type": "execute_result"
    }
   ],
   "source": [
    "x = QuantumRegister(3, 'x')\n",
    "c = ClassicalRegister(3, 'c')\n",
    "qc = QuantumCircuit(x, c)\n",
    "\n",
    "qc.h(x)\n",
    "for i in range(4):\n",
    "    qc.append(oracle_011or101,[0,1,2])\n",
    "    qc.h(x)\n",
    "    qc.append(oracle_inverse,[0,1,2])\n",
    "    qc.h(x)\n",
    "qc.measure(x,c)\n",
    "qc.draw()"
   ]
  },
  {
   "cell_type": "code",
   "execution_count": 31,
   "id": "fe6b1350",
   "metadata": {},
   "outputs": [
    {
     "data": {
      "image/png": "[encoded data removed]",
      "text/plain": [
       "<Figure size 504x360 with 1 Axes>"
      ]
     },
     "execution_count": 31,
     "metadata": {},
     "output_type": "execute_result"
    }
   ],
   "source": [
    "aer_sim = Aer.get_backend('aer_simulator')\n",
    "transpiled_qc = transpile(qc, aer_sim)\n",
    "qobj = assemble(transpiled_qc)\n",
    "results = aer_sim.run(qobj).result()\n",
    "counts = results.get_counts()\n",
    "plot_histogram(counts)"
   ]
  },
  {
   "cell_type": "code",
   "execution_count": 34,
   "id": "d17725d3",
   "metadata": {},
   "outputs": [
    {
     "name": "stderr",
     "output_type": "stream",
     "text": [
      "ibmqfactory.load_account:WARNING:2021-11-03 20:40:06,376: Credentials are already in use. The existing account in the session will be replaced.\n"
     ]
    },
    {
     "name": "stdout",
     "output_type": "stream",
     "text": [
      "Running on current least busy device:  ibmq_belem\n",
      "Job Status: job has successfully run\n"
     ]
    },
    {
     "ename": "NameError",
     "evalue": "name 'grover_circuit' is not defined",
     "output_type": "error",
     "traceback": [
      "\u001b[1;31m---------------------------------------------------------------------------\u001b[0m",
      "\u001b[1;31mNameError\u001b[0m                                 Traceback (most recent call last)",
      "\u001b[1;32m~\\AppData\\Local\\Temp/ipykernel_16440/304353940.py\u001b[0m in \u001b[0;36m<module>\u001b[1;34m\u001b[0m\n\u001b[0;32m     13\u001b[0m \u001b[1;31m# Get the results from the computation\u001b[0m\u001b[1;33m\u001b[0m\u001b[1;33m\u001b[0m\u001b[0m\n\u001b[0;32m     14\u001b[0m \u001b[0mresults\u001b[0m \u001b[1;33m=\u001b[0m \u001b[0mjob\u001b[0m\u001b[1;33m.\u001b[0m\u001b[0mresult\u001b[0m\u001b[1;33m(\u001b[0m\u001b[1;33m)\u001b[0m\u001b[1;33m\u001b[0m\u001b[1;33m\u001b[0m\u001b[0m\n\u001b[1;32m---> 15\u001b[1;33m \u001b[0manswer\u001b[0m \u001b[1;33m=\u001b[0m \u001b[0mresults\u001b[0m\u001b[1;33m.\u001b[0m\u001b[0mget_counts\u001b[0m\u001b[1;33m(\u001b[0m\u001b[0mgrover_circuit\u001b[0m\u001b[1;33m)\u001b[0m\u001b[1;33m\u001b[0m\u001b[1;33m\u001b[0m\u001b[0m\n\u001b[0m\u001b[0;32m     16\u001b[0m \u001b[0mplot_histogram\u001b[0m\u001b[1;33m(\u001b[0m\u001b[0manswer\u001b[0m\u001b[1;33m)\u001b[0m\u001b[1;33m\u001b[0m\u001b[1;33m\u001b[0m\u001b[0m\n",
      "\u001b[1;31mNameError\u001b[0m: name 'grover_circuit' is not defined"
     ]
    }
   ],
   "source": [
    "from qiskit.providers.ibmq import least_busy\n",
    "# Load IBM Q account and get the least busy backend device\n",
    "provider = IBMQ.load_account()\n",
    "provider = IBMQ.get_provider(\"ibm-q\")\n",
    "device = least_busy(provider.backends(filters=lambda x: x.configuration().n_qubits >= 3 and \n",
    "                                   not x.configuration().simulator and x.status().operational==True))\n",
    "print(\"Running on current least busy device: \", device)\n",
    "# Run our circuit on the least busy backend. Monitor the execution of the job in the queue\n",
    "from qiskit.tools.monitor import job_monitor\n"
   ]
  },
  {
   "cell_type": "code",
   "execution_count": 37,
   "id": "40bfeb3f",
   "metadata": {},
   "outputs": [
    {
     "name": "stdout",
     "output_type": "stream",
     "text": [
      "Job Status: job has successfully run\n"
     ]
    },
    {
     "data": {
      "image/png": "[encoded data removed]",
      "text/plain": [
       "<Figure size 504x360 with 1 Axes>"
      ]
     },
     "execution_count": 37,
     "metadata": {},
     "output_type": "execute_result"
    }
   ],
   "source": [
    "x = QuantumRegister(3, 'x')\n",
    "c = ClassicalRegister(3, 'c')\n",
    "qc = QuantumCircuit(x, c)\n",
    "\n",
    "qc.h(x)\n",
    "for i in range(3):\n",
    "    qc.append(oracle_011or101,[0,1,2])\n",
    "    qc.h(x)\n",
    "    qc.append(oracle_inverse,[0,1,2])\n",
    "    qc.h(x)\n",
    "qc.measure(x,c)\n",
    "qc.draw()\n",
    "transpiled_grover_circuit = transpile(qc, device, optimization_level=3)\n",
    "job = device.run(transpiled_grover_circuit)\n",
    "job_monitor(job, interval=2)\n",
    "# Get the results from the computation\n",
    "results = job.result()\n",
    "answer = results.get_counts(qc)\n",
    "plot_histogram(answer)"
   ]
  },
  {
   "cell_type": "markdown",
   "id": "427b0172",
   "metadata": {},
   "source": [
    "### 2(f)"
   ]
  },
  {
   "cell_type": "code",
   "execution_count": 11,
   "id": "752e5e90",
   "metadata": {},
   "outputs": [
    {
     "data": {
      "text/html": [
       "<pre style=\"word-wrap: normal;white-space: pre;background: #fff0;line-height: 1.1;font-family: &quot;Courier New&quot;,Courier,monospace\">               ┌───┐          ┌───┐┌───┐\n",
       "x_0: ───────■──┤ H ├──────────┤ X ├┤ H ├\n",
       "            │  └───┘          └─┬─┘└───┘\n",
       "x_1: ───────┼──────────────■────■───────\n",
       "     ┌───┐┌─┴─┐┌───┐┌───┐┌─┴─┐┌───┐     \n",
       "x_2: ┤ H ├┤ X ├┤ H ├┤ H ├┤ X ├┤ H ├─────\n",
       "     └───┘└───┘└───┘└───┘└───┘└───┘     </pre>"
      ],
      "text/plain": [
       "               ┌───┐          ┌───┐┌───┐\n",
       "x_0: ───────■──┤ H ├──────────┤ X ├┤ H ├\n",
       "            │  └───┘          └─┬─┘└───┘\n",
       "x_1: ───────┼──────────────■────■───────\n",
       "     ┌───┐┌─┴─┐┌───┐┌───┐┌─┴─┐┌───┐     \n",
       "x_2: ┤ H ├┤ X ├┤ H ├┤ H ├┤ X ├┤ H ├─────\n",
       "     └───┘└───┘└───┘└───┘└───┘└───┘     "
      ]
     },
     "execution_count": 11,
     "metadata": {},
     "output_type": "execute_result"
    }
   ],
   "source": [
    "x = QuantumRegister(3, 'x')\n",
    "qc = QuantumCircuit(x)\n",
    "qc.h(2)\n",
    "qc.cx(0, 2)\n",
    "qc.h(2)\n",
    "qc.h(2)\n",
    "qc.cx(1, 2)\n",
    "qc.h(2)\n",
    "qc.h(0)\n",
    "qc.cx(1, 0)\n",
    "qc.h(0)\n",
    "oracle_four_target = qc.to_gate()\n",
    "oracle_four_target.name = \"four_target\"\n",
    "qc.draw()"
   ]
  },
  {
   "cell_type": "code",
   "execution_count": 12,
   "id": "ec82de63",
   "metadata": {},
   "outputs": [
    {
     "data": {
      "text/html": [
       "<pre style=\"word-wrap: normal;white-space: pre;background: #fff0;line-height: 1.1;font-family: &quot;Courier New&quot;,Courier,monospace\">     ┌───┐┌──────────────┐┌───┐┌──────────┐┌───┐┌──────────────┐┌───┐»\n",
       "x_0: ┤ H ├┤0             ├┤ H ├┤0         ├┤ H ├┤0             ├┤ H ├»\n",
       "     ├───┤│              │├───┤│          │├───┤│              │├───┤»\n",
       "x_1: ┤ H ├┤1 four_target ├┤ H ├┤1 inverse ├┤ H ├┤1 four_target ├┤ H ├»\n",
       "     ├───┤│              │├───┤│          │├───┤│              │├───┤»\n",
       "x_2: ┤ H ├┤2             ├┤ H ├┤2         ├┤ H ├┤2             ├┤ H ├»\n",
       "     └───┘└──────────────┘└───┘└──────────┘└───┘└──────────────┘└───┘»\n",
       "c: 3/════════════════════════════════════════════════════════════════»\n",
       "                                                                     »\n",
       "«     ┌──────────┐┌───┐┌──────────────┐┌───┐┌──────────┐┌───┐┌──────────────┐»\n",
       "«x_0: ┤0         ├┤ H ├┤0             ├┤ H ├┤0         ├┤ H ├┤0             ├»\n",
       "«     │          │├───┤│              │├───┤│          │├───┤│              │»\n",
       "«x_1: ┤1 inverse ├┤ H ├┤1 four_target ├┤ H ├┤1 inverse ├┤ H ├┤1 four_target ├»\n",
       "«     │          │├───┤│              │├───┤│          │├───┤│              │»\n",
       "«x_2: ┤2         ├┤ H ├┤2             ├┤ H ├┤2         ├┤ H ├┤2             ├»\n",
       "«     └──────────┘└───┘└──────────────┘└───┘└──────────┘└───┘└──────────────┘»\n",
       "«c: 3/═══════════════════════════════════════════════════════════════════════»\n",
       "«                                                                            »\n",
       "«     ┌───┐┌──────────┐┌───┐┌──────────────┐┌───┐┌──────────┐┌───┐»\n",
       "«x_0: ┤ H ├┤0         ├┤ H ├┤0             ├┤ H ├┤0         ├┤ H ├»\n",
       "«     ├───┤│          │├───┤│              │├───┤│          │├───┤»\n",
       "«x_1: ┤ H ├┤1 inverse ├┤ H ├┤1 four_target ├┤ H ├┤1 inverse ├┤ H ├»\n",
       "«     ├───┤│          │├───┤│              │├───┤│          │├───┤»\n",
       "«x_2: ┤ H ├┤2         ├┤ H ├┤2             ├┤ H ├┤2         ├┤ H ├»\n",
       "«     └───┘└──────────┘└───┘└──────────────┘└───┘└──────────┘└───┘»\n",
       "«c: 3/════════════════════════════════════════════════════════════»\n",
       "«                                                                 »\n",
       "«     ┌──────────────┐┌───┐┌──────────┐┌───┐┌─┐      \n",
       "«x_0: ┤0             ├┤ H ├┤0         ├┤ H ├┤M├──────\n",
       "«     │              │├───┤│          │├───┤└╥┘┌─┐   \n",
       "«x_1: ┤1 four_target ├┤ H ├┤1 inverse ├┤ H ├─╫─┤M├───\n",
       "«     │              │├───┤│          │├───┤ ║ └╥┘┌─┐\n",
       "«x_2: ┤2             ├┤ H ├┤2         ├┤ H ├─╫──╫─┤M├\n",
       "«     └──────────────┘└───┘└──────────┘└───┘ ║  ║ └╥┘\n",
       "«c: 3/═══════════════════════════════════════╩══╩══╩═\n",
       "«                                            0  1  2 </pre>"
      ],
      "text/plain": [
       "     ┌───┐┌──────────────┐┌───┐┌──────────┐┌───┐┌──────────────┐┌───┐»\n",
       "x_0: ┤ H ├┤0             ├┤ H ├┤0         ├┤ H ├┤0             ├┤ H ├»\n",
       "     ├───┤│              │├───┤│          │├───┤│              │├───┤»\n",
       "x_1: ┤ H ├┤1 four_target ├┤ H ├┤1 inverse ├┤ H ├┤1 four_target ├┤ H ├»\n",
       "     ├───┤│              │├───┤│          │├───┤│              │├───┤»\n",
       "x_2: ┤ H ├┤2             ├┤ H ├┤2         ├┤ H ├┤2             ├┤ H ├»\n",
       "     └───┘└──────────────┘└───┘└──────────┘└───┘└──────────────┘└───┘»\n",
       "c: 3/════════════════════════════════════════════════════════════════»\n",
       "                                                                     »\n",
       "«     ┌──────────┐┌───┐┌──────────────┐┌───┐┌──────────┐┌───┐┌──────────────┐»\n",
       "«x_0: ┤0         ├┤ H ├┤0             ├┤ H ├┤0         ├┤ H ├┤0             ├»\n",
       "«     │          │├───┤│              │├───┤│          │├───┤│              │»\n",
       "«x_1: ┤1 inverse ├┤ H ├┤1 four_target ├┤ H ├┤1 inverse ├┤ H ├┤1 four_target ├»\n",
       "«     │          │├───┤│              │├───┤│          │├───┤│              │»\n",
       "«x_2: ┤2         ├┤ H ├┤2             ├┤ H ├┤2         ├┤ H ├┤2             ├»\n",
       "«     └──────────┘└───┘└──────────────┘└───┘└──────────┘└───┘└──────────────┘»\n",
       "«c: 3/═══════════════════════════════════════════════════════════════════════»\n",
       "«                                                                            »\n",
       "«     ┌───┐┌──────────┐┌───┐┌──────────────┐┌───┐┌──────────┐┌───┐»\n",
       "«x_0: ┤ H ├┤0         ├┤ H ├┤0             ├┤ H ├┤0         ├┤ H ├»\n",
       "«     ├───┤│          │├───┤│              │├───┤│          │├───┤»\n",
       "«x_1: ┤ H ├┤1 inverse ├┤ H ├┤1 four_target ├┤ H ├┤1 inverse ├┤ H ├»\n",
       "«     ├───┤│          │├───┤│              │├───┤│          │├───┤»\n",
       "«x_2: ┤ H ├┤2         ├┤ H ├┤2             ├┤ H ├┤2         ├┤ H ├»\n",
       "«     └───┘└──────────┘└───┘└──────────────┘└───┘└──────────┘└───┘»\n",
       "«c: 3/════════════════════════════════════════════════════════════»\n",
       "«                                                                 »\n",
       "«     ┌──────────────┐┌───┐┌──────────┐┌───┐┌─┐      \n",
       "«x_0: ┤0             ├┤ H ├┤0         ├┤ H ├┤M├──────\n",
       "«     │              │├───┤│          │├───┤└╥┘┌─┐   \n",
       "«x_1: ┤1 four_target ├┤ H ├┤1 inverse ├┤ H ├─╫─┤M├───\n",
       "«     │              │├───┤│          │├───┤ ║ └╥┘┌─┐\n",
       "«x_2: ┤2             ├┤ H ├┤2         ├┤ H ├─╫──╫─┤M├\n",
       "«     └──────────────┘└───┘└──────────┘└───┘ ║  ║ └╥┘\n",
       "«c: 3/═══════════════════════════════════════╩══╩══╩═\n",
       "«                                            0  1  2 "
      ]
     },
     "execution_count": 12,
     "metadata": {},
     "output_type": "execute_result"
    }
   ],
   "source": [
    "x = QuantumRegister(3, 'x')\n",
    "c = ClassicalRegister(3, 'c')\n",
    "qc = QuantumCircuit(x, c)\n",
    "\n",
    "qc.h(x)\n",
    "for i in range(6):\n",
    "    qc.append(oracle_four_target,[0,1,2])\n",
    "    qc.h(x)\n",
    "    qc.append(oracle_inverse,[0,1,2])\n",
    "    qc.h(x)\n",
    "qc.measure(x,c)\n",
    "qc.draw()"
   ]
  },
  {
   "cell_type": "code",
   "execution_count": 13,
   "id": "c8139019",
   "metadata": {},
   "outputs": [
    {
     "data": {
      "image/png": "[encoded data removed]",
      "text/plain": [
       "<Figure size 504x360 with 1 Axes>"
      ]
     },
     "execution_count": 13,
     "metadata": {},
     "output_type": "execute_result"
    }
   ],
   "source": [
    "aer_sim = Aer.get_backend('aer_simulator')\n",
    "transpiled_qc = transpile(qc, aer_sim)\n",
    "qobj = assemble(transpiled_qc)\n",
    "results = aer_sim.run(qobj).result()\n",
    "counts = results.get_counts()\n",
    "plot_histogram(counts)"
   ]
  },
  {
   "cell_type": "markdown",
   "id": "8b72b5a4",
   "metadata": {},
   "source": [
    "## Reference"
   ]
  },
  {
   "cell_type": "markdown",
   "id": "010c43a1",
   "metadata": {},
   "source": [
    "[1] https://qiskit.org/textbook/ch-algorithms/grover.html"
   ]
  },
  {
   "cell_type": "code",
   "execution_count": null,
   "id": "5148f6e8",
   "metadata": {},
   "outputs": [],
   "source": []
  }
 ],
 "metadata": {
  "kernelspec": {
   "display_name": "Python 3 (ipykernel)",
   "language": "python",
   "name": "python3"
  },
  "language_info": {
   "codemirror_mode": {
    "name": "ipython",
    "version": 3
   },
   "file_extension": ".py",
   "mimetype": "text/x-python",
   "name": "python",
   "nbconvert_exporter": "python",
   "pygments_lexer": "ipython3",
   "version": "3.9.7"
  }
 },
 "nbformat": 4,
 "nbformat_minor": 5
}
