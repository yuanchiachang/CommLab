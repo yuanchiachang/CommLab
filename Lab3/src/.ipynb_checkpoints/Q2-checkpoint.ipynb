{
 "cells": [
  {
   "cell_type": "markdown",
   "id": "ecd3c00e",
   "metadata": {},
   "source": [
    "# Lab 3:  Quantum Computing Algorithms\n",
    "* Author: B08901049 Yuan-Chia Chang\n",
    "* Instructor: Professor Hao-Chung Cheng\n",
    "* TA: Chia-Yi Chou\n",
    "* Created: 10/31/2021(Sun)\n",
    "* Last edited: 10/31/2021(Sun)\n",
    "* Contact: b08901049@ntu.edu.tw\n",
    "* Collaborator: B08901002 Chen-Han Lin, B08901209 Yu-Hsiang Lin"
   ]
  },
  {
   "cell_type": "code",
   "execution_count": 2,
   "id": "0f734304",
   "metadata": {},
   "outputs": [],
   "source": [
    "# Do the necessary imports\n",
    "import numpy as np\n",
    "from qiskit import *\n",
    "from qiskit.visualization import plot_histogram\n",
    "from qiskit.extensions import Initialize\n",
    "from qiskit.quantum_info import random_statevector"
   ]
  },
  {
   "cell_type": "markdown",
   "id": "dc6d3ae7",
   "metadata": {},
   "source": [
    "### 2(a)"
   ]
  },
  {
   "cell_type": "code",
   "execution_count": 4,
   "id": "c55d2c83",
   "metadata": {},
   "outputs": [
    {
     "name": "stdout",
     "output_type": "stream",
     "text": [
      "[ 0.2259028 -0.06965525j -0.19635623-0.21071969j -0.00399369-0.03486609j\n",
      " -0.1551018 -0.12501783j -0.01756948-0.01186638j  0.00457103+0.01640424j\n",
      "  0.21754397+0.48570415j -0.18128834+0.05831847j -0.2259028 +0.06965525j\n",
      "  0.19635623+0.21071969j  0.00399369+0.03486609j  0.1551018 +0.12501783j\n",
      "  0.01756948+0.01186638j -0.00457103-0.01640424j -0.21754397-0.48570415j\n",
      "  0.18128834-0.05831847j]\n",
      "[ 0.2259028 -0.06965525j -0.19635623-0.21071969j -0.00399369-0.03486609j\n",
      " -0.1551018 -0.12501783j -0.01756948-0.01186638j  0.00457103+0.01640424j\n",
      " -0.21754397-0.48570415j -0.18128834+0.05831847j -0.2259028 +0.06965525j\n",
      "  0.19635623+0.21071969j  0.00399369+0.03486609j  0.1551018 +0.12501783j\n",
      "  0.01756948+0.01186638j -0.00457103-0.01640424j  0.21754397+0.48570415j\n",
      "  0.18128834-0.05831847j]\n"
     ]
    },
    {
     "data": {
      "text/html": [
       "<pre style=\"word-wrap: normal;white-space: pre;background: #fff0;line-height: 1.1;font-family: &quot;Courier New&quot;,Courier,monospace\">     »\n",
       "x_0: »\n",
       "     »\n",
       "x_1: »\n",
       "     »\n",
       "x_2: »\n",
       "     »\n",
       "y_0: »\n",
       "     »\n",
       "c: 3/»\n",
       "     »\n",
       "«     ┌──────────────────────────────────────────────────────────────────────────────────────────────────────────────────────────────────────────────────────────────────┐»\n",
       "«x_0: ┤0                                                                                                                                                                 ├»\n",
       "«     │                                                                                                                                                                  │»\n",
       "«x_1: ┤1 Initialize(0.31947-0.098507j,-0.27769-0.298j,-0.0056479-0.049308j,-0.21935-0.1768j,-0.024847-0.016782j,0.0064644+0.023199j,0.30765+0.68689j,-0.25638+0.082475j) ├»\n",
       "«     │                                                                                                                                                                  │»\n",
       "«x_2: ┤2                                                                                                                                                                 ├»\n",
       "«     └──────────────────────────────────────────────────────────────────────────────┬───┬───────────────────────────────────────────────────────────────────────────────┘»\n",
       "«y_0: ───────────────────────────────────────────────────────────────────────────────┤ X ├────────────────────────────────────────────────────────────────────────────────»\n",
       "«                                                                                    └───┘                                                                                »\n",
       "«c: 3/════════════════════════════════════════════════════════════════════════════════════════════════════════════════════════════════════════════════════════════════════»\n",
       "«                                                                                                                                                                         »\n",
       "«           ░ ┌───┐     ┌───┐ ░ \n",
       "«x_0: ──────░─┤ X ├──■──┤ X ├─░─\n",
       "«           ░ └───┘  │  └───┘ ░ \n",
       "«x_1: ──────░────────■────────░─\n",
       "«           ░        │        ░ \n",
       "«x_2: ──────░────────■────────░─\n",
       "«     ┌───┐ ░      ┌─┴─┐      ░ \n",
       "«y_0: ┤ H ├─░──────┤ X ├──────░─\n",
       "«     └───┘ ░      └───┘      ░ \n",
       "«c: 3/══════════════════════════\n",
       "«                               </pre>"
      ],
      "text/plain": [
       "     »\n",
       "x_0: »\n",
       "     »\n",
       "x_1: »\n",
       "     »\n",
       "x_2: »\n",
       "     »\n",
       "y_0: »\n",
       "     »\n",
       "c: 3/»\n",
       "     »\n",
       "«     ┌──────────────────────────────────────────────────────────────────────────────────────────────────────────────────────────────────────────────────────────────────┐»\n",
       "«x_0: ┤0                                                                                                                                                                 ├»\n",
       "«     │                                                                                                                                                                  │»\n",
       "«x_1: ┤1 Initialize(0.31947-0.098507j,-0.27769-0.298j,-0.0056479-0.049308j,-0.21935-0.1768j,-0.024847-0.016782j,0.0064644+0.023199j,0.30765+0.68689j,-0.25638+0.082475j) ├»\n",
       "«     │                                                                                                                                                                  │»\n",
       "«x_2: ┤2                                                                                                                                                                 ├»\n",
       "«     └──────────────────────────────────────────────────────────────────────────────┬───┬───────────────────────────────────────────────────────────────────────────────┘»\n",
       "«y_0: ───────────────────────────────────────────────────────────────────────────────┤ X ├────────────────────────────────────────────────────────────────────────────────»\n",
       "«                                                                                    └───┘                                                                                »\n",
       "«c: 3/════════════════════════════════════════════════════════════════════════════════════════════════════════════════════════════════════════════════════════════════════»\n",
       "«                                                                                                                                                                         »\n",
       "«           ░ ┌───┐     ┌───┐ ░ \n",
       "«x_0: ──────░─┤ X ├──■──┤ X ├─░─\n",
       "«           ░ └───┘  │  └───┘ ░ \n",
       "«x_1: ──────░────────■────────░─\n",
       "«           ░        │        ░ \n",
       "«x_2: ──────░────────■────────░─\n",
       "«     ┌───┐ ░      ┌─┴─┐      ░ \n",
       "«y_0: ┤ H ├─░──────┤ X ├──────░─\n",
       "«     └───┘ ░      └───┘      ░ \n",
       "«c: 3/══════════════════════════\n",
       "«                               "
      ]
     },
     "execution_count": 4,
     "metadata": {},
     "output_type": "execute_result"
    }
   ],
   "source": [
    "rand_sv = random_statevector(8)\n",
    "x = QuantumRegister(3, 'x')\n",
    "y = QuantumRegister(1, 'y')\n",
    "c = ClassicalRegister(3, 'c')\n",
    "qc = QuantumCircuit(x,y, c)\n",
    "qc.initialize(rand_sv.data,[0,1,2])\n",
    "qc.x(3)\n",
    "qc.h(3)\n",
    "backend = Aer.get_backend('statevector_simulator')\n",
    "job = backend.run(qc)\n",
    "result = job.result()\n",
    "outputstate = result.get_statevector(qc)\n",
    "print(outputstate)\n",
    "qc.barrier()\n",
    "qc.x(0)\n",
    "qc.mct(list(range(3)), y)\n",
    "qc.x(0)\n",
    "qc.barrier()\n",
    "\n",
    "backend = Aer.get_backend('statevector_simulator')\n",
    "job = backend.run(qc)\n",
    "result = job.result()\n",
    "outputstate = result.get_statevector(qc)\n",
    "print(outputstate)\n",
    "qc.draw()"
   ]
  },
  {
   "cell_type": "markdown",
   "id": "27438698",
   "metadata": {},
   "source": [
    "#### 2(b)"
   ]
  },
  {
   "cell_type": "code",
   "execution_count": 5,
   "id": "9bf893ff",
   "metadata": {},
   "outputs": [
    {
     "data": {
      "text/html": [
       "<pre style=\"word-wrap: normal;white-space: pre;background: #fff0;line-height: 1.1;font-family: &quot;Courier New&quot;,Courier,monospace\">     ┌───┐          ┌───┐     \n",
       "x_0: ┤ X ├───────■──┤ X ├─────\n",
       "     ├───┤       │  ├───┤     \n",
       "x_1: ┤ X ├───────■──┤ X ├─────\n",
       "     ├───┤┌───┐┌─┴─┐├───┤┌───┐\n",
       "x_2: ┤ X ├┤ H ├┤ X ├┤ H ├┤ X ├\n",
       "     └───┘└───┘└───┘└───┘└───┘</pre>"
      ],
      "text/plain": [
       "     ┌───┐          ┌───┐     \n",
       "x_0: ┤ X ├───────■──┤ X ├─────\n",
       "     ├───┤       │  ├───┤     \n",
       "x_1: ┤ X ├───────■──┤ X ├─────\n",
       "     ├───┤┌───┐┌─┴─┐├───┤┌───┐\n",
       "x_2: ┤ X ├┤ H ├┤ X ├┤ H ├┤ X ├\n",
       "     └───┘└───┘└───┘└───┘└───┘"
      ]
     },
     "execution_count": 5,
     "metadata": {},
     "output_type": "execute_result"
    }
   ],
   "source": [
    "x = QuantumRegister(3, 'x')\n",
    "qc = QuantumCircuit(x)\n",
    "qc.x(x)\n",
    "qc.h(2)\n",
    "qc.mct(list(range(2)), 2)\n",
    "qc.h(2)\n",
    "qc.x(x)\n",
    "\n",
    "oracle_inverse = qc.to_gate()\n",
    "oracle_inverse.name = \"inverse\"\n",
    "qc.draw()"
   ]
  },
  {
   "cell_type": "markdown",
   "id": "971224a2",
   "metadata": {},
   "source": [
    "#### 2(c)"
   ]
  },
  {
   "cell_type": "code",
   "execution_count": 6,
   "id": "b632a747",
   "metadata": {},
   "outputs": [
    {
     "data": {
      "text/html": [
       "<pre style=\"word-wrap: normal;white-space: pre;background: #fff0;line-height: 1.1;font-family: &quot;Courier New&quot;,Courier,monospace\">     ┌───┐     ┌───┐\n",
       "x_0: ┤ X ├──■──┤ X ├\n",
       "     └───┘  │  └───┘\n",
       "x_1: ───────■───────\n",
       "            │       \n",
       "x_2: ───────■───────\n",
       "          ┌─┴─┐     \n",
       "y_0: ─────┤ X ├─────\n",
       "          └───┘     </pre>"
      ],
      "text/plain": [
       "     ┌───┐     ┌───┐\n",
       "x_0: ┤ X ├──■──┤ X ├\n",
       "     └───┘  │  └───┘\n",
       "x_1: ───────■───────\n",
       "            │       \n",
       "x_2: ───────■───────\n",
       "          ┌─┴─┐     \n",
       "y_0: ─────┤ X ├─────\n",
       "          └───┘     "
      ]
     },
     "execution_count": 6,
     "metadata": {},
     "output_type": "execute_result"
    }
   ],
   "source": [
    "x = QuantumRegister(3, 'x')\n",
    "y = QuantumRegister(1, 'y')\n",
    "qc = QuantumCircuit(x,y)\n",
    "#qc = QuantumCircuit(x)\n",
    "qc.x(0)\n",
    "qc.mct(list(range(3)), 3)\n",
    "qc.x(0)\n",
    "qc.draw()\n",
    "oracle_ex3 = qc.to_gate()\n",
    "oracle_ex3.name = \"U$_\\omega$\"\n",
    "qc.draw()"
   ]
  },
  {
   "cell_type": "code",
   "execution_count": 7,
   "id": "8bfc8cf8",
   "metadata": {},
   "outputs": [
    {
     "data": {
      "text/html": [
       "<pre style=\"word-wrap: normal;white-space: pre;background: #fff0;line-height: 1.1;font-family: &quot;Courier New&quot;,Courier,monospace\">     ┌───┐     ┌─────────────┐┌───┐┌──────────┐┌───┐┌─────────────┐┌───┐»\n",
       "x_0: ┤ H ├─────┤0            ├┤ H ├┤0         ├┤ H ├┤0            ├┤ H ├»\n",
       "     ├───┤     │             │├───┤│          │├───┤│             │├───┤»\n",
       "x_1: ┤ H ├─────┤1            ├┤ H ├┤1 inverse ├┤ H ├┤1            ├┤ H ├»\n",
       "     ├───┤     │  U$_\\omega$ │├───┤│          │├───┤│  U$_\\omega$ │├───┤»\n",
       "x_2: ┤ H ├─────┤2            ├┤ H ├┤2         ├┤ H ├┤2            ├┤ H ├»\n",
       "     ├───┤┌───┐│             │└───┘└──────────┘└───┘│             │└───┘»\n",
       "y_0: ┤ X ├┤ H ├┤3            ├──────────────────────┤3            ├─────»\n",
       "     └───┘└───┘└─────────────┘                      └─────────────┘     »\n",
       "c: 3/═══════════════════════════════════════════════════════════════════»\n",
       "                                                                        »\n",
       "«     ┌──────────┐┌───┐┌─────────────┐┌───┐┌──────────┐┌───┐┌─┐      \n",
       "«x_0: ┤0         ├┤ H ├┤0            ├┤ H ├┤0         ├┤ H ├┤M├──────\n",
       "«     │          │├───┤│             │├───┤│          │├───┤└╥┘┌─┐   \n",
       "«x_1: ┤1 inverse ├┤ H ├┤1            ├┤ H ├┤1 inverse ├┤ H ├─╫─┤M├───\n",
       "«     │          │├───┤│  U$_\\omega$ │├───┤│          │├───┤ ║ └╥┘┌─┐\n",
       "«x_2: ┤2         ├┤ H ├┤2            ├┤ H ├┤2         ├┤ H ├─╫──╫─┤M├\n",
       "«     └──────────┘└───┘│             │└───┘└──────────┘└───┘ ║  ║ └╥┘\n",
       "«y_0: ─────────────────┤3            ├───────────────────────╫──╫──╫─\n",
       "«                      └─────────────┘                       ║  ║  ║ \n",
       "«c: 3/═══════════════════════════════════════════════════════╩══╩══╩═\n",
       "«                                                            0  1  2 </pre>"
      ],
      "text/plain": [
       "     ┌───┐     ┌─────────────┐┌───┐┌──────────┐┌───┐┌─────────────┐┌───┐»\n",
       "x_0: ┤ H ├─────┤0            ├┤ H ├┤0         ├┤ H ├┤0            ├┤ H ├»\n",
       "     ├───┤     │             │├───┤│          │├───┤│             │├───┤»\n",
       "x_1: ┤ H ├─────┤1            ├┤ H ├┤1 inverse ├┤ H ├┤1            ├┤ H ├»\n",
       "     ├───┤     │  U$_\\omega$ │├───┤│          │├───┤│  U$_\\omega$ │├───┤»\n",
       "x_2: ┤ H ├─────┤2            ├┤ H ├┤2         ├┤ H ├┤2            ├┤ H ├»\n",
       "     ├───┤┌───┐│             │└───┘└──────────┘└───┘│             │└───┘»\n",
       "y_0: ┤ X ├┤ H ├┤3            ├──────────────────────┤3            ├─────»\n",
       "     └───┘└───┘└─────────────┘                      └─────────────┘     »\n",
       "c: 3/═══════════════════════════════════════════════════════════════════»\n",
       "                                                                        »\n",
       "«     ┌──────────┐┌───┐┌─────────────┐┌───┐┌──────────┐┌───┐┌─┐      \n",
       "«x_0: ┤0         ├┤ H ├┤0            ├┤ H ├┤0         ├┤ H ├┤M├──────\n",
       "«     │          │├───┤│             │├───┤│          │├───┤└╥┘┌─┐   \n",
       "«x_1: ┤1 inverse ├┤ H ├┤1            ├┤ H ├┤1 inverse ├┤ H ├─╫─┤M├───\n",
       "«     │          │├───┤│  U$_\\omega$ │├───┤│          │├───┤ ║ └╥┘┌─┐\n",
       "«x_2: ┤2         ├┤ H ├┤2            ├┤ H ├┤2         ├┤ H ├─╫──╫─┤M├\n",
       "«     └──────────┘└───┘│             │└───┘└──────────┘└───┘ ║  ║ └╥┘\n",
       "«y_0: ─────────────────┤3            ├───────────────────────╫──╫──╫─\n",
       "«                      └─────────────┘                       ║  ║  ║ \n",
       "«c: 3/═══════════════════════════════════════════════════════╩══╩══╩═\n",
       "«                                                            0  1  2 "
      ]
     },
     "execution_count": 7,
     "metadata": {},
     "output_type": "execute_result"
    }
   ],
   "source": [
    "x = QuantumRegister(3, 'x')\n",
    "y = QuantumRegister(1, 'y')\n",
    "c = ClassicalRegister(3, 'c')\n",
    "qc = QuantumCircuit(x,y, c)\n",
    "#qc = QuantumCircuit(x, c)\n",
    "qc.h(x)\n",
    "qc.x(y)\n",
    "qc.h(y)\n",
    "for i in range(3):\n",
    "    qc.append(oracle_ex3,[0,1,2,3])\n",
    "    qc.h(x)\n",
    "    qc.append(oracle_inverse,[0,1,2])\n",
    "    qc.h(x)\n",
    "qc.measure(x,c)\n",
    "qc.draw()"
   ]
  },
  {
   "cell_type": "code",
   "execution_count": 8,
   "id": "cdea0523",
   "metadata": {},
   "outputs": [
    {
     "name": "stderr",
     "output_type": "stream",
     "text": [
      "C:\\Users\\USER\\anaconda3\\envs\\IBMQ\\lib\\site-packages\\qiskit\\utils\\deprecation.py:62: DeprecationWarning: Using a qobj for run() is deprecated as of qiskit-aer 0.9.0 and will be removed no sooner than 3 months from that release date. Transpiled circuits should now be passed directly using `backend.run(circuits, **run_options).\n",
      "  return func(*args, **kwargs)\n"
     ]
    },
    {
     "data": {
      "image/png": "[encoded data removed]",
      "text/plain": [
       "<Figure size 504x360 with 1 Axes>"
      ]
     },
     "execution_count": 8,
     "metadata": {},
     "output_type": "execute_result"
    }
   ],
   "source": [
    "aer_sim = Aer.get_backend('aer_simulator')\n",
    "transpiled_qc = transpile(qc, aer_sim)\n",
    "qobj = assemble(transpiled_qc)\n",
    "results = aer_sim.run(qobj).result()\n",
    "counts = results.get_counts()\n",
    "plot_histogram(counts)"
   ]
  },
  {
   "cell_type": "markdown",
   "id": "99ad3c13",
   "metadata": {},
   "source": [
    "#### 2(d)"
   ]
  },
  {
   "cell_type": "code",
   "execution_count": 9,
   "id": "2ed0b068",
   "metadata": {},
   "outputs": [
    {
     "name": "stdout",
     "output_type": "stream",
     "text": [
      "[-0.15903454-0.20896799j  0.0091157 -0.21342157j  0.15156029-0.40022099j\n",
      "  0.30289996+0.18653193j  0.29467073-0.11041725j -0.05966114-0.33026804j\n",
      " -0.41431073-0.25530532j -0.13227577+0.33125263j]\n",
      "[-0.15903454-0.20896799j  0.0091157 -0.21342157j  0.15156029-0.40022099j\n",
      "  0.30289996+0.18653193j  0.29467073-0.11041725j  0.05966114+0.33026804j\n",
      "  0.41431073+0.25530532j -0.13227577+0.33125263j]\n"
     ]
    },
    {
     "data": {
      "text/html": [
       "<pre style=\"word-wrap: normal;white-space: pre;background: #fff0;line-height: 1.1;font-family: &quot;Courier New&quot;,Courier,monospace\">     »\n",
       "x_0: »\n",
       "     »\n",
       "x_1: »\n",
       "     »\n",
       "x_2: »\n",
       "     »\n",
       "c: 3/»\n",
       "     »\n",
       "«     ┌────────────────────────────────────────────────────────────────────────────────────────────────────────────────────────────────────────────────────────────┐»\n",
       "«x_0: ┤0                                                                                                                                                           ├»\n",
       "«     │                                                                                                                                                            │»\n",
       "«x_1: ┤1 Initialize(-0.15903-0.20897j,0.0091157-0.21342j,0.15156-0.40022j,0.3029+0.18653j,0.29467-0.11042j,-0.059661-0.33027j,-0.41431-0.25531j,-0.13228+0.33125j) ├»\n",
       "«     │                                                                                                                                                            │»\n",
       "«x_2: ┤2                                                                                                                                                           ├»\n",
       "«     └────────────────────────────────────────────────────────────────────────────────────────────────────────────────────────────────────────────────────────────┘»\n",
       "«c: 3/══════════════════════════════════════════════════════════════════════════════════════════════════════════════════════════════════════════════════════════════»\n",
       "«                                                                                                                                                                   »\n",
       "«      ░                                ░ \n",
       "«x_0: ─░────────■───────────────────────░─\n",
       "«      ░        │                       ░ \n",
       "«x_1: ─░────────┼──────────────■────────░─\n",
       "«      ░ ┌───┐┌─┴─┐┌───┐┌───┐┌─┴─┐┌───┐ ░ \n",
       "«x_2: ─░─┤ H ├┤ X ├┤ H ├┤ H ├┤ X ├┤ H ├─░─\n",
       "«      ░ └───┘└───┘└───┘└───┘└───┘└───┘ ░ \n",
       "«c: 3/════════════════════════════════════\n",
       "«                                         </pre>"
      ],
      "text/plain": [
       "     »\n",
       "x_0: »\n",
       "     »\n",
       "x_1: »\n",
       "     »\n",
       "x_2: »\n",
       "     »\n",
       "c: 3/»\n",
       "     »\n",
       "«     ┌────────────────────────────────────────────────────────────────────────────────────────────────────────────────────────────────────────────────────────────┐»\n",
       "«x_0: ┤0                                                                                                                                                           ├»\n",
       "«     │                                                                                                                                                            │»\n",
       "«x_1: ┤1 Initialize(-0.15903-0.20897j,0.0091157-0.21342j,0.15156-0.40022j,0.3029+0.18653j,0.29467-0.11042j,-0.059661-0.33027j,-0.41431-0.25531j,-0.13228+0.33125j) ├»\n",
       "«     │                                                                                                                                                            │»\n",
       "«x_2: ┤2                                                                                                                                                           ├»\n",
       "«     └────────────────────────────────────────────────────────────────────────────────────────────────────────────────────────────────────────────────────────────┘»\n",
       "«c: 3/══════════════════════════════════════════════════════════════════════════════════════════════════════════════════════════════════════════════════════════════»\n",
       "«                                                                                                                                                                   »\n",
       "«      ░                                ░ \n",
       "«x_0: ─░────────■───────────────────────░─\n",
       "«      ░        │                       ░ \n",
       "«x_1: ─░────────┼──────────────■────────░─\n",
       "«      ░ ┌───┐┌─┴─┐┌───┐┌───┐┌─┴─┐┌───┐ ░ \n",
       "«x_2: ─░─┤ H ├┤ X ├┤ H ├┤ H ├┤ X ├┤ H ├─░─\n",
       "«      ░ └───┘└───┘└───┘└───┘└───┘└───┘ ░ \n",
       "«c: 3/════════════════════════════════════\n",
       "«                                         "
      ]
     },
     "execution_count": 9,
     "metadata": {},
     "output_type": "execute_result"
    }
   ],
   "source": [
    "rand_sv = random_statevector(8)\n",
    "x = QuantumRegister(3, 'x')\n",
    "c = ClassicalRegister(3, 'c')\n",
    "qc = QuantumCircuit(x, c)\n",
    "qc.initialize(rand_sv.data,[0,1,2])\n",
    "backend = Aer.get_backend('statevector_simulator')\n",
    "job = backend.run(qc)\n",
    "result = job.result()\n",
    "outputstate = result.get_statevector(qc)\n",
    "print(outputstate)\n",
    "qc.barrier()\n",
    "qc.h(2)\n",
    "qc.cx(0, 2)\n",
    "qc.h(2)\n",
    "qc.h(2)\n",
    "qc.cx(1, 2)\n",
    "qc.h(2)\n",
    "qc.barrier()\n",
    "\n",
    "backend = Aer.get_backend('statevector_simulator')\n",
    "job = backend.run(qc)\n",
    "result = job.result()\n",
    "outputstate = result.get_statevector(qc)\n",
    "print(outputstate)\n",
    "qc.draw()"
   ]
  },
  {
   "cell_type": "markdown",
   "id": "42029260",
   "metadata": {},
   "source": [
    "#### 2(e)"
   ]
  },
  {
   "cell_type": "code",
   "execution_count": 15,
   "id": "80535c7c",
   "metadata": {},
   "outputs": [
    {
     "data": {
      "text/html": [
       "<pre style=\"word-wrap: normal;white-space: pre;background: #fff0;line-height: 1.1;font-family: &quot;Courier New&quot;,Courier,monospace\">                                   \n",
       "x_0: ───────■──────────────────────\n",
       "            │                      \n",
       "x_1: ───────┼──────────────■───────\n",
       "     ┌───┐┌─┴─┐┌───┐┌───┐┌─┴─┐┌───┐\n",
       "x_2: ┤ H ├┤ X ├┤ H ├┤ H ├┤ X ├┤ H ├\n",
       "     └───┘└───┘└───┘└───┘└───┘└───┘</pre>"
      ],
      "text/plain": [
       "                                   \n",
       "x_0: ───────■──────────────────────\n",
       "            │                      \n",
       "x_1: ───────┼──────────────■───────\n",
       "     ┌───┐┌─┴─┐┌───┐┌───┐┌─┴─┐┌───┐\n",
       "x_2: ┤ H ├┤ X ├┤ H ├┤ H ├┤ X ├┤ H ├\n",
       "     └───┘└───┘└───┘└───┘└───┘└───┘"
      ]
     },
     "execution_count": 15,
     "metadata": {},
     "output_type": "execute_result"
    }
   ],
   "source": [
    "x = QuantumRegister(3, 'x')\n",
    "qc = QuantumCircuit(x)\n",
    "qc.h(2)\n",
    "qc.cx(0, 2)\n",
    "qc.h(2)\n",
    "qc.h(2)\n",
    "qc.cx(1, 2)\n",
    "qc.h(2)\n",
    "oracle_011or101 = qc.to_gate()\n",
    "oracle_011or101.name = \"U$_\\011or101$\"\n",
    "qc.draw()"
   ]
  },
  {
   "cell_type": "code",
   "execution_count": 22,
   "id": "cce81248",
   "metadata": {},
   "outputs": [
    {
     "data": {
      "text/html": [
       "<pre style=\"word-wrap: normal;white-space: pre;background: #fff0;line-height: 1.1;font-family: &quot;Courier New&quot;,Courier,monospace\">     ┌───┐┌─────────────┐┌───┐┌──────────┐┌───┐┌─────────────┐┌───┐┌──────────┐»\n",
       "x_0: ┤ H ├┤0            ├┤ H ├┤0         ├┤ H ├┤0            ├┤ H ├┤0         ├»\n",
       "     ├───┤│             │├───┤│          │├───┤│             │├───┤│          │»\n",
       "x_1: ┤ H ├┤1 U$_\tor101$ ├┤ H ├┤1 inverse ├┤ H ├┤1 U$_\tor101$ ├┤ H ├┤1 inverse ├»\n",
       "     ├───┤│             │├───┤│          │├───┤│             │├───┤│          │»\n",
       "x_2: ┤ H ├┤2            ├┤ H ├┤2         ├┤ H ├┤2            ├┤ H ├┤2         ├»\n",
       "     └───┘└─────────────┘└───┘└──────────┘└───┘└─────────────┘└───┘└──────────┘»\n",
       "c: 3/══════════════════════════════════════════════════════════════════════════»\n",
       "                                                                               »\n",
       "«     ┌───┐┌─────────────┐┌───┐┌──────────┐┌───┐┌─────────────┐┌───┐»\n",
       "«x_0: ┤ H ├┤0            ├┤ H ├┤0         ├┤ H ├┤0            ├┤ H ├»\n",
       "«     ├───┤│             │├───┤│          │├───┤│             │├───┤»\n",
       "«x_1: ┤ H ├┤1 U$_\tor101$ ├┤ H ├┤1 inverse ├┤ H ├┤1 U$_\tor101$ ├┤ H ├»\n",
       "«     ├───┤│             │├───┤│          │├───┤│             │├───┤»\n",
       "«x_2: ┤ H ├┤2            ├┤ H ├┤2         ├┤ H ├┤2            ├┤ H ├»\n",
       "«     └───┘└─────────────┘└───┘└──────────┘└───┘└─────────────┘└───┘»\n",
       "«c: 3/══════════════════════════════════════════════════════════════»\n",
       "«                                                                   »\n",
       "«     ┌──────────┐┌───┐┌─┐      \n",
       "«x_0: ┤0         ├┤ H ├┤M├──────\n",
       "«     │          │├───┤└╥┘┌─┐   \n",
       "«x_1: ┤1 inverse ├┤ H ├─╫─┤M├───\n",
       "«     │          │├───┤ ║ └╥┘┌─┐\n",
       "«x_2: ┤2         ├┤ H ├─╫──╫─┤M├\n",
       "«     └──────────┘└───┘ ║  ║ └╥┘\n",
       "«c: 3/══════════════════╩══╩══╩═\n",
       "«                       0  1  2 </pre>"
      ],
      "text/plain": [
       "     ┌───┐┌─────────────┐┌───┐┌──────────┐┌───┐┌─────────────┐┌───┐┌──────────┐»\n",
       "x_0: ┤ H ├┤0            ├┤ H ├┤0         ├┤ H ├┤0            ├┤ H ├┤0         ├»\n",
       "     ├───┤│             │├───┤│          │├───┤│             │├───┤│          │»\n",
       "x_1: ┤ H ├┤1 U$_\tor101$ ├┤ H ├┤1 inverse ├┤ H ├┤1 U$_\tor101$ ├┤ H ├┤1 inverse ├»\n",
       "     ├───┤│             │├───┤│          │├───┤│             │├───┤│          │»\n",
       "x_2: ┤ H ├┤2            ├┤ H ├┤2         ├┤ H ├┤2            ├┤ H ├┤2         ├»\n",
       "     └───┘└─────────────┘└───┘└──────────┘└───┘└─────────────┘└───┘└──────────┘»\n",
       "c: 3/══════════════════════════════════════════════════════════════════════════»\n",
       "                                                                               »\n",
       "«     ┌───┐┌─────────────┐┌───┐┌──────────┐┌───┐┌─────────────┐┌───┐»\n",
       "«x_0: ┤ H ├┤0            ├┤ H ├┤0         ├┤ H ├┤0            ├┤ H ├»\n",
       "«     ├───┤│             │├───┤│          │├───┤│             │├───┤»\n",
       "«x_1: ┤ H ├┤1 U$_\tor101$ ├┤ H ├┤1 inverse ├┤ H ├┤1 U$_\tor101$ ├┤ H ├»\n",
       "«     ├───┤│             │├───┤│          │├───┤│             │├───┤»\n",
       "«x_2: ┤ H ├┤2            ├┤ H ├┤2         ├┤ H ├┤2            ├┤ H ├»\n",
       "«     └───┘└─────────────┘└───┘└──────────┘└───┘└─────────────┘└───┘»\n",
       "«c: 3/══════════════════════════════════════════════════════════════»\n",
       "«                                                                   »\n",
       "«     ┌──────────┐┌───┐┌─┐      \n",
       "«x_0: ┤0         ├┤ H ├┤M├──────\n",
       "«     │          │├───┤└╥┘┌─┐   \n",
       "«x_1: ┤1 inverse ├┤ H ├─╫─┤M├───\n",
       "«     │          │├───┤ ║ └╥┘┌─┐\n",
       "«x_2: ┤2         ├┤ H ├─╫──╫─┤M├\n",
       "«     └──────────┘└───┘ ║  ║ └╥┘\n",
       "«c: 3/══════════════════╩══╩══╩═\n",
       "«                       0  1  2 "
      ]
     },
     "execution_count": 22,
     "metadata": {},
     "output_type": "execute_result"
    }
   ],
   "source": [
    "x = QuantumRegister(3, 'x')\n",
    "c = ClassicalRegister(3, 'c')\n",
    "qc = QuantumCircuit(x, c)\n",
    "\n",
    "qc.h(x)\n",
    "for i in range(4):\n",
    "    qc.append(oracle_011or101,[0,1,2])\n",
    "    qc.h(x)\n",
    "    qc.append(oracle_inverse,[0,1,2])\n",
    "    qc.h(x)\n",
    "qc.measure(x,c)\n",
    "qc.draw()"
   ]
  },
  {
   "cell_type": "code",
   "execution_count": 23,
   "id": "fe6b1350",
   "metadata": {},
   "outputs": [
    {
     "data": {
      "image/png": "[encoded data removed]",
      "text/plain": [
       "<Figure size 504x360 with 1 Axes>"
      ]
     },
     "execution_count": 23,
     "metadata": {},
     "output_type": "execute_result"
    }
   ],
   "source": [
    "aer_sim = Aer.get_backend('aer_simulator')\n",
    "transpiled_qc = transpile(qc, aer_sim)\n",
    "qobj = assemble(transpiled_qc)\n",
    "results = aer_sim.run(qobj).result()\n",
    "counts = results.get_counts()\n",
    "plot_histogram(counts)"
   ]
  },
  {
   "cell_type": "markdown",
   "id": "427b0172",
   "metadata": {},
   "source": [
    "### 2(f)"
   ]
  },
  {
   "cell_type": "code",
   "execution_count": 35,
   "id": "752e5e90",
   "metadata": {},
   "outputs": [
    {
     "data": {
      "text/html": [
       "<pre style=\"word-wrap: normal;white-space: pre;background: #fff0;line-height: 1.1;font-family: &quot;Courier New&quot;,Courier,monospace\">               ┌───┐          ┌───┐┌───┐\n",
       "x_0: ───────■──┤ H ├──────────┤ X ├┤ H ├\n",
       "            │  └───┘          └─┬─┘└───┘\n",
       "x_1: ───────┼──────────────■────■───────\n",
       "     ┌───┐┌─┴─┐┌───┐┌───┐┌─┴─┐┌───┐     \n",
       "x_2: ┤ H ├┤ X ├┤ H ├┤ H ├┤ X ├┤ H ├─────\n",
       "     └───┘└───┘└───┘└───┘└───┘└───┘     </pre>"
      ],
      "text/plain": [
       "               ┌───┐          ┌───┐┌───┐\n",
       "x_0: ───────■──┤ H ├──────────┤ X ├┤ H ├\n",
       "            │  └───┘          └─┬─┘└───┘\n",
       "x_1: ───────┼──────────────■────■───────\n",
       "     ┌───┐┌─┴─┐┌───┐┌───┐┌─┴─┐┌───┐     \n",
       "x_2: ┤ H ├┤ X ├┤ H ├┤ H ├┤ X ├┤ H ├─────\n",
       "     └───┘└───┘└───┘└───┘└───┘└───┘     "
      ]
     },
     "execution_count": 35,
     "metadata": {},
     "output_type": "execute_result"
    }
   ],
   "source": [
    "x = QuantumRegister(3, 'x')\n",
    "qc = QuantumCircuit(x)\n",
    "qc.h(2)\n",
    "qc.cx(0, 2)\n",
    "qc.h(2)\n",
    "qc.h(2)\n",
    "qc.cx(1, 2)\n",
    "qc.h(2)\n",
    "qc.h(0)\n",
    "qc.cx(1, 0)\n",
    "qc.h(0)\n",
    "oracle_four_target = qc.to_gate()\n",
    "oracle_four_target.name = \"four_target\"\n",
    "qc.draw()"
   ]
  },
  {
   "cell_type": "code",
   "execution_count": 50,
   "id": "ec82de63",
   "metadata": {},
   "outputs": [
    {
     "data": {
      "text/html": [
       "<pre style=\"word-wrap: normal;white-space: pre;background: #fff0;line-height: 1.1;font-family: &quot;Courier New&quot;,Courier,monospace\">     ┌───┐┌──────────────┐┌───┐┌──────────┐┌───┐┌──────────────┐┌───┐»\n",
       "x_0: ┤ H ├┤0             ├┤ H ├┤0         ├┤ H ├┤0             ├┤ H ├»\n",
       "     ├───┤│              │├───┤│          │├───┤│              │├───┤»\n",
       "x_1: ┤ H ├┤1 four_target ├┤ H ├┤1 inverse ├┤ H ├┤1 four_target ├┤ H ├»\n",
       "     ├───┤│              │├───┤│          │├───┤│              │├───┤»\n",
       "x_2: ┤ H ├┤2             ├┤ H ├┤2         ├┤ H ├┤2             ├┤ H ├»\n",
       "     └───┘└──────────────┘└───┘└──────────┘└───┘└──────────────┘└───┘»\n",
       "c: 3/════════════════════════════════════════════════════════════════»\n",
       "                                                                     »\n",
       "«     ┌──────────┐┌───┐┌──────────────┐┌───┐┌──────────┐┌───┐┌──────────────┐»\n",
       "«x_0: ┤0         ├┤ H ├┤0             ├┤ H ├┤0         ├┤ H ├┤0             ├»\n",
       "«     │          │├───┤│              │├───┤│          │├───┤│              │»\n",
       "«x_1: ┤1 inverse ├┤ H ├┤1 four_target ├┤ H ├┤1 inverse ├┤ H ├┤1 four_target ├»\n",
       "«     │          │├───┤│              │├───┤│          │├───┤│              │»\n",
       "«x_2: ┤2         ├┤ H ├┤2             ├┤ H ├┤2         ├┤ H ├┤2             ├»\n",
       "«     └──────────┘└───┘└──────────────┘└───┘└──────────┘└───┘└──────────────┘»\n",
       "«c: 3/═══════════════════════════════════════════════════════════════════════»\n",
       "«                                                                            »\n",
       "«     ┌───┐┌──────────┐┌───┐┌──────────────┐┌───┐┌──────────┐┌───┐»\n",
       "«x_0: ┤ H ├┤0         ├┤ H ├┤0             ├┤ H ├┤0         ├┤ H ├»\n",
       "«     ├───┤│          │├───┤│              │├───┤│          │├───┤»\n",
       "«x_1: ┤ H ├┤1 inverse ├┤ H ├┤1 four_target ├┤ H ├┤1 inverse ├┤ H ├»\n",
       "«     ├───┤│          │├───┤│              │├───┤│          │├───┤»\n",
       "«x_2: ┤ H ├┤2         ├┤ H ├┤2             ├┤ H ├┤2         ├┤ H ├»\n",
       "«     └───┘└──────────┘└───┘└──────────────┘└───┘└──────────┘└───┘»\n",
       "«c: 3/════════════════════════════════════════════════════════════»\n",
       "«                                                                 »\n",
       "«     ┌──────────────┐┌───┐┌──────────┐┌───┐┌─┐      \n",
       "«x_0: ┤0             ├┤ H ├┤0         ├┤ H ├┤M├──────\n",
       "«     │              │├───┤│          │├───┤└╥┘┌─┐   \n",
       "«x_1: ┤1 four_target ├┤ H ├┤1 inverse ├┤ H ├─╫─┤M├───\n",
       "«     │              │├───┤│          │├───┤ ║ └╥┘┌─┐\n",
       "«x_2: ┤2             ├┤ H ├┤2         ├┤ H ├─╫──╫─┤M├\n",
       "«     └──────────────┘└───┘└──────────┘└───┘ ║  ║ └╥┘\n",
       "«c: 3/═══════════════════════════════════════╩══╩══╩═\n",
       "«                                            0  1  2 </pre>"
      ],
      "text/plain": [
       "     ┌───┐┌──────────────┐┌───┐┌──────────┐┌───┐┌──────────────┐┌───┐»\n",
       "x_0: ┤ H ├┤0             ├┤ H ├┤0         ├┤ H ├┤0             ├┤ H ├»\n",
       "     ├───┤│              │├───┤│          │├───┤│              │├───┤»\n",
       "x_1: ┤ H ├┤1 four_target ├┤ H ├┤1 inverse ├┤ H ├┤1 four_target ├┤ H ├»\n",
       "     ├───┤│              │├───┤│          │├───┤│              │├───┤»\n",
       "x_2: ┤ H ├┤2             ├┤ H ├┤2         ├┤ H ├┤2             ├┤ H ├»\n",
       "     └───┘└──────────────┘└───┘└──────────┘└───┘└──────────────┘└───┘»\n",
       "c: 3/════════════════════════════════════════════════════════════════»\n",
       "                                                                     »\n",
       "«     ┌──────────┐┌───┐┌──────────────┐┌───┐┌──────────┐┌───┐┌──────────────┐»\n",
       "«x_0: ┤0         ├┤ H ├┤0             ├┤ H ├┤0         ├┤ H ├┤0             ├»\n",
       "«     │          │├───┤│              │├───┤│          │├───┤│              │»\n",
       "«x_1: ┤1 inverse ├┤ H ├┤1 four_target ├┤ H ├┤1 inverse ├┤ H ├┤1 four_target ├»\n",
       "«     │          │├───┤│              │├───┤│          │├───┤│              │»\n",
       "«x_2: ┤2         ├┤ H ├┤2             ├┤ H ├┤2         ├┤ H ├┤2             ├»\n",
       "«     └──────────┘└───┘└──────────────┘└───┘└──────────┘└───┘└──────────────┘»\n",
       "«c: 3/═══════════════════════════════════════════════════════════════════════»\n",
       "«                                                                            »\n",
       "«     ┌───┐┌──────────┐┌───┐┌──────────────┐┌───┐┌──────────┐┌───┐»\n",
       "«x_0: ┤ H ├┤0         ├┤ H ├┤0             ├┤ H ├┤0         ├┤ H ├»\n",
       "«     ├───┤│          │├───┤│              │├───┤│          │├───┤»\n",
       "«x_1: ┤ H ├┤1 inverse ├┤ H ├┤1 four_target ├┤ H ├┤1 inverse ├┤ H ├»\n",
       "«     ├───┤│          │├───┤│              │├───┤│          │├───┤»\n",
       "«x_2: ┤ H ├┤2         ├┤ H ├┤2             ├┤ H ├┤2         ├┤ H ├»\n",
       "«     └───┘└──────────┘└───┘└──────────────┘└───┘└──────────┘└───┘»\n",
       "«c: 3/════════════════════════════════════════════════════════════»\n",
       "«                                                                 »\n",
       "«     ┌──────────────┐┌───┐┌──────────┐┌───┐┌─┐      \n",
       "«x_0: ┤0             ├┤ H ├┤0         ├┤ H ├┤M├──────\n",
       "«     │              │├───┤│          │├───┤└╥┘┌─┐   \n",
       "«x_1: ┤1 four_target ├┤ H ├┤1 inverse ├┤ H ├─╫─┤M├───\n",
       "«     │              │├───┤│          │├───┤ ║ └╥┘┌─┐\n",
       "«x_2: ┤2             ├┤ H ├┤2         ├┤ H ├─╫──╫─┤M├\n",
       "«     └──────────────┘└───┘└──────────┘└───┘ ║  ║ └╥┘\n",
       "«c: 3/═══════════════════════════════════════╩══╩══╩═\n",
       "«                                            0  1  2 "
      ]
     },
     "execution_count": 50,
     "metadata": {},
     "output_type": "execute_result"
    }
   ],
   "source": [
    "x = QuantumRegister(3, 'x')\n",
    "c = ClassicalRegister(3, 'c')\n",
    "qc = QuantumCircuit(x, c)\n",
    "\n",
    "qc.h(x)\n",
    "for i in range(6):\n",
    "    qc.append(oracle_four_target,[0,1,2])\n",
    "    qc.h(x)\n",
    "    qc.append(oracle_inverse,[0,1,2])\n",
    "    qc.h(x)\n",
    "qc.measure(x,c)\n",
    "qc.draw()"
   ]
  },
  {
   "cell_type": "code",
   "execution_count": 51,
   "id": "c8139019",
   "metadata": {},
   "outputs": [
    {
     "data": {
      "image/png": "[encoded data removed]",
      "text/plain": [
       "<Figure size 504x360 with 1 Axes>"
      ]
     },
     "execution_count": 51,
     "metadata": {},
     "output_type": "execute_result"
    }
   ],
   "source": [
    "aer_sim = Aer.get_backend('aer_simulator')\n",
    "transpiled_qc = transpile(qc, aer_sim)\n",
    "qobj = assemble(transpiled_qc)\n",
    "results = aer_sim.run(qobj).result()\n",
    "counts = results.get_counts()\n",
    "plot_histogram(counts)"
   ]
  },
  {
   "cell_type": "markdown",
   "id": "8b72b5a4",
   "metadata": {},
   "source": [
    "## Reference"
   ]
  },
  {
   "cell_type": "markdown",
   "id": "010c43a1",
   "metadata": {},
   "source": [
    "[1] https://qiskit.org/textbook/ch-algorithms/grover.html"
   ]
  },
  {
   "cell_type": "code",
   "execution_count": null,
   "id": "5148f6e8",
   "metadata": {},
   "outputs": [],
   "source": []
  }
 ],
 "metadata": {
  "kernelspec": {
   "display_name": "Python 3 (ipykernel)",
   "language": "python",
   "name": "python3"
  },
  "language_info": {
   "codemirror_mode": {
    "name": "ipython",
    "version": 3
   },
   "file_extension": ".py",
   "mimetype": "text/x-python",
   "name": "python",
   "nbconvert_exporter": "python",
   "pygments_lexer": "ipython3",
   "version": "3.9.7"
  }
 },
 "nbformat": 4,
 "nbformat_minor": 5
}
