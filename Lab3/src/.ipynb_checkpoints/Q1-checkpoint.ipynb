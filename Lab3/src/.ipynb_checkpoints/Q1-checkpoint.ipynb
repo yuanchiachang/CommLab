{
 "cells": [
  {
   "cell_type": "markdown",
   "id": "ecd3c00e",
   "metadata": {},
   "source": [
    "# Lab 3:  Quantum Computing Algorithms\n",
    "* Author: B08901049 Yuan-Chia Chang\n",
    "* Instructor: Professor Hao-Chung Cheng\n",
    "* TA: Chia-Yi Chou\n",
    "* Created: 10/31/2021(Sun)\n",
    "* Last edited: 10/31/2021(Sun)\n",
    "* Contact: b08901049@ntu.edu.tw\n",
    "* Collaborator: B08901002 Chen-Han Lin, B08901209 Yu-Hsiang Lin"
   ]
  },
  {
   "cell_type": "markdown",
   "id": "ecc2f6d6",
   "metadata": {},
   "source": [
    "## Import Some Packages"
   ]
  },
  {
   "cell_type": "code",
   "execution_count": 1,
   "id": "244c2c92",
   "metadata": {},
   "outputs": [],
   "source": [
    "import qiskit\n",
    "from qiskit import *\n",
    "import time\n",
    "from numpy.random import randint\n",
    "import numpy as np\n",
    "# Monitoring our job\n",
    "from qiskit.tools.monitor import job_monitor\n",
    "import random\n",
    "# Importing everything\n",
    "from qiskit import QuantumCircuit\n",
    "from qiskit import IBMQ, Aer, transpile, assemble\n",
    "from qiskit.visualization import plot_histogram"
   ]
  },
  {
   "cell_type": "markdown",
   "id": "8568e0ec",
   "metadata": {},
   "source": [
    "## Define Some Constants"
   ]
  },
  {
   "cell_type": "code",
   "execution_count": 13,
   "id": "6fc49784",
   "metadata": {},
   "outputs": [
    {
     "name": "stderr",
     "output_type": "stream",
     "text": [
      "configrc.store_credentials:WARNING:2021-10-19 13:42:47,099: Credentials already present. Set overwrite=True to overwrite.\n"
     ]
    },
    {
     "data": {
      "text/plain": [
       "<AccountProvider for IBMQ(hub='ibm-q', group='open', project='main')>"
      ]
     },
     "execution_count": 13,
     "metadata": {},
     "output_type": "execute_result"
    }
   ],
   "source": [
    "shots = 256\n",
    "api_token = \"1a1095eb06da72eb4ec3f07a7c583eb84d89a9d96e3cec78db81374e92af3c3f3fa5ecaaf5821bc5c166c41d9615fd2ac7b72615f3e8a77b15532ab10395a66f\"\n",
    "IBMQ.save_account(api_token)\n",
    "# Load local account information\n",
    "IBMQ.load_account()"
   ]
  },
  {
   "cell_type": "markdown",
   "id": "471f41d9",
   "metadata": {},
   "source": [
    "## Set up quantum simulator backend"
   ]
  },
  {
   "cell_type": "code",
   "execution_count": 2,
   "id": "c7b7b762",
   "metadata": {},
   "outputs": [],
   "source": [
    "qasm_simulator = Aer.get_backend('qasm_simulator')"
   ]
  },
  {
   "cell_type": "markdown",
   "id": "44f29cd6",
   "metadata": {},
   "source": [
    "## Set up real IBMQ backend"
   ]
  },
  {
   "cell_type": "code",
   "execution_count": 15,
   "id": "255f193f",
   "metadata": {},
   "outputs": [
    {
     "name": "stdout",
     "output_type": "stream",
     "text": [
      "least busy backend:  ibmq_lima\n"
     ]
    }
   ],
   "source": [
    "from qiskit import IBMQ\n",
    "from qiskit.providers.ibmq import least_busy\n",
    "shots = 1024\n",
    "# Get the least busy backend\n",
    "provider = IBMQ.get_provider(hub='ibm-q')\n",
    "real_device_backend = least_busy(provider.backends(filters=lambda x: x.configuration().n_qubits >= 2 \n",
    "                                       and not x.configuration().simulator \n",
    "                                       and x.status().operational==True))\n",
    "print(\"least busy backend: \", real_device_backend)\n",
    "#provider = IBMQ.get_provider(hub = 'ibm-q', group = 'open',project = 'main')\n",
    "#real_device_backend = provider.get_backend('ibmq_belem')"
   ]
  },
  {
   "cell_type": "markdown",
   "id": "ac0d4a16",
   "metadata": {},
   "source": [
    "## Test whether the IBMQ real device works properly"
   ]
  },
  {
   "cell_type": "code",
   "execution_count": 16,
   "id": "23ad3ffe",
   "metadata": {},
   "outputs": [
    {
     "name": "stdout",
     "output_type": "stream",
     "text": [
      "Job Status: job has successfully run\n",
      "[11, 11, 12, 14, 29, 17, 16, 12, 26, 10, 26, 23, 4, 31, 14, 25, 16, 1, 12, 15]\n"
     ]
    }
   ],
   "source": [
    "q = QuantumRegister(5)\n",
    "c = ClassicalRegister(5)\n",
    "circuit = QuantumCircuit(q,c)\n",
    "for i in range(5):\n",
    "    circuit.h(q[i])\n",
    "circuit.measure(q,c)\n",
    "job = execute(circuit, backend =real_device_backend, shots=20, memory=True) #For getting the information of every shots\n",
    "from qiskit.tools.monitor import job_monitor\n",
    "job_monitor(job)\n",
    "result = job.result()\n",
    "counts = result.get_memory()\n",
    "random_list = []\n",
    "for i in counts:\n",
    "    random_list.append(int(i,2))\n",
    "print(random_list)"
   ]
  },
  {
   "cell_type": "markdown",
   "id": "e103970c",
   "metadata": {},
   "source": [
    "## Q1[1]"
   ]
  },
  {
   "cell_type": "markdown",
   "id": "f92ad717",
   "metadata": {},
   "source": [
    "### 1(a)"
   ]
  },
  {
   "cell_type": "code",
   "execution_count": 45,
   "id": "000edafa",
   "metadata": {},
   "outputs": [
    {
     "data": {
      "text/html": [
       "<pre style=\"word-wrap: normal;white-space: pre;background: #fff0;line-height: 1.1;font-family: &quot;Courier New&quot;,Courier,monospace\">          ┌───┐ ░ ┌───┐ ░    \n",
       "     x_0: ┤ X ├─░─┤ I ├─░────\n",
       "          └───┘ ░ ├───┤ ░    \n",
       "     x_1: ──────░─┤ I ├─░────\n",
       "                ░ ├───┤ ░    \n",
       "     x_2: ──────░─┤ I ├─░────\n",
       "                ░ ├───┤ ░    \n",
       "     x_3: ──────░─┤ I ├─░────\n",
       "                ░ └───┘ ░ ┌─┐\n",
       "     y_0: ──────░───────░─┤M├\n",
       "                ░       ░ └╥┘\n",
       "result: 1/═════════════════╩═\n",
       "                           0 </pre>"
      ],
      "text/plain": [
       "          ┌───┐ ░ ┌───┐ ░    \n",
       "     x_0: ┤ X ├─░─┤ I ├─░────\n",
       "          └───┘ ░ ├───┤ ░    \n",
       "     x_1: ──────░─┤ I ├─░────\n",
       "                ░ ├───┤ ░    \n",
       "     x_2: ──────░─┤ I ├─░────\n",
       "                ░ ├───┤ ░    \n",
       "     x_3: ──────░─┤ I ├─░────\n",
       "                ░ └───┘ ░ ┌─┐\n",
       "     y_0: ──────░───────░─┤M├\n",
       "                ░       ░ └╥┘\n",
       "result: 1/═════════════════╩═\n",
       "                           0 "
      ]
     },
     "execution_count": 45,
     "metadata": {},
     "output_type": "execute_result"
    }
   ],
   "source": [
    "input_string = \"1000\"\n",
    "x = QuantumRegister(4, 'x')\n",
    "y = QuantumRegister(1, 'y')\n",
    "result = ClassicalRegister(1, 'result')\n",
    "qc = QuantumCircuit(x,y, result)\n",
    "for i in range(len(input_string)):\n",
    "    if(int(input_string[i])):\n",
    "        qc.x(i)\n",
    "qc.barrier()\n",
    "qc.i(x)\n",
    "qc.barrier()\n",
    "qc.measure(4,0)\n",
    "qc.draw()\n",
    "qobj = assemble(qc)\n",
    "results = qasm_simulator.run(qobj).result().get_counts()\n",
    "plot_histogram(results)"
   ]
  },
  {
   "cell_type": "code",
   "execution_count": 54,
   "id": "e5fc8432",
   "metadata": {},
   "outputs": [
    {
     "data": {
      "image/png": "[encoded data removed]",
      "text/plain": [
       "<Figure size 504x360 with 1 Axes>"
      ]
     },
     "execution_count": 54,
     "metadata": {},
     "output_type": "execute_result"
    }
   ],
   "source": [
    "input_string = \"1000\"\n",
    "x = QuantumRegister(4, 'x')\n",
    "y = QuantumRegister(1, 'y')\n",
    "result = ClassicalRegister(1, 'result')\n",
    "qc = QuantumCircuit(x,y, result)\n",
    "for i in range(len(input_string)):\n",
    "    if(int(input_string[i])):\n",
    "        qc.x(i)\n",
    "qc.barrier()\n",
    "qc.i(x)\n",
    "qc.x(4)\n",
    "qc.barrier()\n",
    "qc.measure(4,0)\n",
    "qc.draw()\n",
    "qobj = assemble(qc)\n",
    "results = qasm_simulator.run(qobj).result().get_counts()\n",
    "plot_histogram(results)"
   ]
  },
  {
   "cell_type": "code",
   "execution_count": 52,
   "id": "4fb2fa33",
   "metadata": {},
   "outputs": [
    {
     "data": {
      "image/png": "[encoded data removed]",
      "text/plain": [
       "<Figure size 504x360 with 1 Axes>"
      ]
     },
     "execution_count": 52,
     "metadata": {},
     "output_type": "execute_result"
    }
   ],
   "source": [
    "input_string = \"1000\"\n",
    "x = QuantumRegister(4, 'x')\n",
    "y = QuantumRegister(1, 'y')\n",
    "result = ClassicalRegister(1, 'result')\n",
    "qc = QuantumCircuit(x,y, result)\n",
    "for i in range(len(input_string)):\n",
    "    if(int(input_string[i])):\n",
    "        qc.x(i)\n",
    "qc.barrier()\n",
    "qc.cx(x,4)\n",
    "qc.barrier()\n",
    "qc.measure(4,0)\n",
    "qc.draw()\n",
    "qobj = assemble(qc)\n",
    "results = qasm_simulator.run(qobj).result().get_counts()\n",
    "plot_histogram(results)"
   ]
  },
  {
   "cell_type": "markdown",
   "id": "054a0ee1",
   "metadata": {},
   "source": [
    "## 1(b)"
   ]
  },
  {
   "cell_type": "code",
   "execution_count": 60,
   "id": "501291f0",
   "metadata": {},
   "outputs": [
    {
     "data": {
      "image/png": "[encoded data removed]",
      "text/plain": [
       "<Figure size 504x360 with 1 Axes>"
      ]
     },
     "execution_count": 60,
     "metadata": {},
     "output_type": "execute_result"
    }
   ],
   "source": [
    "x = QuantumRegister(4, 'x')\n",
    "y = QuantumRegister(1, 'y')\n",
    "c = ClassicalRegister(4, 'c')\n",
    "qc = QuantumCircuit(x,y, c)\n",
    "qc.h(x)\n",
    "qc.x(y)\n",
    "qc.h(y)\n",
    "qc.barrier()\n",
    "qc.i(x)\n",
    "qc.barrier()\n",
    "qc.h(x)\n",
    "qc.measure(x,c)\n",
    "qc.draw()\n",
    "qobj = assemble(qc)\n",
    "results = qasm_simulator.run(qobj).result().get_counts()\n",
    "plot_histogram(results)"
   ]
  },
  {
   "cell_type": "code",
   "execution_count": 61,
   "id": "8fd7fdb1",
   "metadata": {},
   "outputs": [
    {
     "data": {
      "image/png": "[encoded data removed]",
      "text/plain": [
       "<Figure size 504x360 with 1 Axes>"
      ]
     },
     "execution_count": 61,
     "metadata": {},
     "output_type": "execute_result"
    }
   ],
   "source": [
    "x = QuantumRegister(4, 'x')\n",
    "y = QuantumRegister(1, 'y')\n",
    "c = ClassicalRegister(4, 'c')\n",
    "qc = QuantumCircuit(x,y, c)\n",
    "qc.h(x)\n",
    "qc.x(y)\n",
    "qc.h(y)\n",
    "qc.barrier()\n",
    "qc.i(x)\n",
    "qc.x(y)\n",
    "qc.barrier()\n",
    "qc.h(x)\n",
    "qc.measure(x,c)\n",
    "qc.draw()\n",
    "qobj = assemble(qc)\n",
    "results = qasm_simulator.run(qobj).result().get_counts()\n",
    "plot_histogram(results)"
   ]
  },
  {
   "cell_type": "code",
   "execution_count": 62,
   "id": "5c61a3c1",
   "metadata": {},
   "outputs": [
    {
     "data": {
      "image/png": "[encoded data removed]",
      "text/plain": [
       "<Figure size 504x360 with 1 Axes>"
      ]
     },
     "execution_count": 62,
     "metadata": {},
     "output_type": "execute_result"
    }
   ],
   "source": [
    "x = QuantumRegister(4, 'x')\n",
    "y = QuantumRegister(1, 'y')\n",
    "c = ClassicalRegister(4, 'c')\n",
    "qc = QuantumCircuit(x,y, c)\n",
    "qc.h(x)\n",
    "qc.x(y)\n",
    "qc.h(y)\n",
    "qc.barrier()\n",
    "qc.cx(x,4)\n",
    "qc.barrier()\n",
    "qc.h(x)\n",
    "qc.measure(x,c)\n",
    "qc.draw()\n",
    "qobj = assemble(qc)\n",
    "results = qasm_simulator.run(qobj).result().get_counts()\n",
    "plot_histogram(results)"
   ]
  },
  {
   "cell_type": "markdown",
   "id": "f2f81269",
   "metadata": {},
   "source": [
    "## 2"
   ]
  },
  {
   "cell_type": "code",
   "execution_count": 2,
   "id": "0f734304",
   "metadata": {},
   "outputs": [],
   "source": [
    "# Do the necessary imports\n",
    "import numpy as np\n",
    "from qiskit import *\n",
    "from qiskit.visualization import plot_histogram, plot_bloch_multivector, array_to_latex\n",
    "from qiskit.extensions import Initialize\n",
    "from qiskit.ignis.verification import marginal_counts\n",
    "from qiskit.quantum_info import random_statevector"
   ]
  },
  {
   "cell_type": "markdown",
   "id": "dc6d3ae7",
   "metadata": {},
   "source": [
    "### 2(a)"
   ]
  },
  {
   "cell_type": "code",
   "execution_count": 24,
   "id": "c55d2c83",
   "metadata": {},
   "outputs": [
    {
     "name": "stdout",
     "output_type": "stream",
     "text": [
      "[-0.21114135+0.0164823j  -0.23853439+0.03168859j  0.09748057-0.18079152j\n",
      "  0.14474175-0.16091496j  0.21265781-0.26994109j  0.08689986-0.1168521j\n",
      " -0.1353417 +0.38562542j -0.02526777-0.0353932j   0.21114135-0.0164823j\n",
      "  0.23853439-0.03168859j -0.09748057+0.18079152j -0.14474175+0.16091496j\n",
      " -0.21265781+0.26994109j -0.08689986+0.1168521j   0.1353417 -0.38562542j\n",
      "  0.02526777+0.0353932j ]\n",
      "[-0.21114135+0.0164823j  -0.23853439+0.03168859j  0.09748057-0.18079152j\n",
      "  0.14474175-0.16091496j  0.21265781-0.26994109j  0.08689986-0.1168521j\n",
      "  0.1353417 -0.38562542j -0.02526777-0.0353932j   0.21114135-0.0164823j\n",
      "  0.23853439-0.03168859j -0.09748057+0.18079152j -0.14474175+0.16091496j\n",
      " -0.21265781+0.26994109j -0.08689986+0.1168521j  -0.1353417 +0.38562542j\n",
      "  0.02526777+0.0353932j ]\n"
     ]
    }
   ],
   "source": [
    "rand_sv = random_statevector(8)\n",
    "x = QuantumRegister(3, 'x')\n",
    "y = QuantumRegister(1, 'y')\n",
    "c = ClassicalRegister(3, 'c')\n",
    "qc = QuantumCircuit(x,y, c)\n",
    "qc.initialize(rand_sv.data,[0,1,2])\n",
    "qc.x(3)\n",
    "qc.h(3)\n",
    "backend = Aer.get_backend('statevector_simulator')\n",
    "job = backend.run(qc)\n",
    "result = job.result()\n",
    "outputstate = result.get_statevector(qc)\n",
    "print(outputstate)\n",
    "qc.barrier()\n",
    "qc.x(0)\n",
    "qc.mct(list(range(3)), y)\n",
    "qc.x(0)\n",
    "qc.barrier()\n",
    "qc.draw()\n",
    "backend = Aer.get_backend('statevector_simulator')\n",
    "job = backend.run(qc)\n",
    "result = job.result()\n",
    "outputstate = result.get_statevector(qc)\n",
    "print(outputstate)"
   ]
  },
  {
   "cell_type": "markdown",
   "id": "27438698",
   "metadata": {},
   "source": [
    "#### 2(b)"
   ]
  },
  {
   "cell_type": "code",
   "execution_count": 40,
   "id": "0afa9d28",
   "metadata": {},
   "outputs": [],
   "source": [
    "x = QuantumRegister(3, 'x')\n",
    "qc = QuantumCircuit(x)\n",
    "qc.x(x)\n",
    "qc.h(2)\n",
    "qc.mct(list(range(2)), 2)\n",
    "qc.h(2)\n",
    "qc.x(x)\n",
    "qc.draw()\n",
    "oracle_inverse = qc.to_gate()\n",
    "oracle_inverse = \"inverse\""
   ]
  },
  {
   "cell_type": "markdown",
   "id": "55fce93e",
   "metadata": {},
   "source": [
    "#### 2(c)"
   ]
  },
  {
   "cell_type": "code",
   "execution_count": 41,
   "id": "70740c49",
   "metadata": {},
   "outputs": [],
   "source": [
    "x = QuantumRegister(3, 'x')\n",
    "y = QuantumRegister(1, 'y')\n",
    "qc = QuantumCircuit(x,y)\n",
    "qc.x(0)\n",
    "qc.mct(list(range(3)), y)\n",
    "qc.x(0)\n",
    "qc.draw()\n",
    "oracle_ex3 = qc.to_gate()\n",
    "oracle_ex3.name = \"U$_\\omega$\""
   ]
  },
  {
   "cell_type": "code",
   "execution_count": 45,
   "id": "1b497fa6",
   "metadata": {},
   "outputs": [
    {
     "ename": "TypeError",
     "evalue": "issubclass() arg 1 must be a class",
     "output_type": "error",
     "traceback": [
      "\u001b[1;31m---------------------------------------------------------------------------\u001b[0m",
      "\u001b[1;31mTypeError\u001b[0m                                 Traceback (most recent call last)",
      "\u001b[1;32m~\\AppData\\Local\\Temp/ipykernel_13472/2877351725.py\u001b[0m in \u001b[0;36m<module>\u001b[1;34m\u001b[0m\n\u001b[0;32m      7\u001b[0m \u001b[0mqc\u001b[0m\u001b[1;33m.\u001b[0m\u001b[0mappend\u001b[0m\u001b[1;33m(\u001b[0m\u001b[0moracle_ex3\u001b[0m\u001b[1;33m,\u001b[0m\u001b[1;33m[\u001b[0m\u001b[1;36m0\u001b[0m\u001b[1;33m,\u001b[0m\u001b[1;36m1\u001b[0m\u001b[1;33m,\u001b[0m\u001b[1;36m2\u001b[0m\u001b[1;33m,\u001b[0m\u001b[1;36m3\u001b[0m\u001b[1;33m]\u001b[0m\u001b[1;33m)\u001b[0m\u001b[1;33m\u001b[0m\u001b[1;33m\u001b[0m\u001b[0m\n\u001b[0;32m      8\u001b[0m \u001b[0mqc\u001b[0m\u001b[1;33m.\u001b[0m\u001b[0mh\u001b[0m\u001b[1;33m(\u001b[0m\u001b[0mx\u001b[0m\u001b[1;33m)\u001b[0m\u001b[1;33m\u001b[0m\u001b[1;33m\u001b[0m\u001b[0m\n\u001b[1;32m----> 9\u001b[1;33m \u001b[0mqc\u001b[0m\u001b[1;33m.\u001b[0m\u001b[0mappend\u001b[0m\u001b[1;33m(\u001b[0m\u001b[0moracle_inverse\u001b[0m\u001b[1;33m,\u001b[0m\u001b[1;33m[\u001b[0m\u001b[1;36m0\u001b[0m\u001b[1;33m,\u001b[0m\u001b[1;36m1\u001b[0m\u001b[1;33m,\u001b[0m\u001b[1;36m2\u001b[0m\u001b[1;33m,\u001b[0m\u001b[1;36m3\u001b[0m\u001b[1;33m]\u001b[0m\u001b[1;33m)\u001b[0m\u001b[1;33m\u001b[0m\u001b[1;33m\u001b[0m\u001b[0m\n\u001b[0m\u001b[0;32m     10\u001b[0m \u001b[0mqc\u001b[0m\u001b[1;33m.\u001b[0m\u001b[0mh\u001b[0m\u001b[1;33m(\u001b[0m\u001b[0mx\u001b[0m\u001b[1;33m)\u001b[0m\u001b[1;33m\u001b[0m\u001b[1;33m\u001b[0m\u001b[0m\n\u001b[0;32m     11\u001b[0m \u001b[0mqc\u001b[0m\u001b[1;33m.\u001b[0m\u001b[0mdraw\u001b[0m\u001b[1;33m(\u001b[0m\u001b[1;33m)\u001b[0m\u001b[1;33m\u001b[0m\u001b[1;33m\u001b[0m\u001b[0m\n",
      "\u001b[1;32m~\\anaconda3\\envs\\IBMQ\\lib\\site-packages\\qiskit\\circuit\\quantumcircuit.py\u001b[0m in \u001b[0;36mappend\u001b[1;34m(self, instruction, qargs, cargs)\u001b[0m\n\u001b[0;32m   1061\u001b[0m         \u001b[1;31m# Convert input to instruction\u001b[0m\u001b[1;33m\u001b[0m\u001b[1;33m\u001b[0m\u001b[0m\n\u001b[0;32m   1062\u001b[0m         \u001b[1;32mif\u001b[0m \u001b[1;32mnot\u001b[0m \u001b[0misinstance\u001b[0m\u001b[1;33m(\u001b[0m\u001b[0minstruction\u001b[0m\u001b[1;33m,\u001b[0m \u001b[0mInstruction\u001b[0m\u001b[1;33m)\u001b[0m \u001b[1;32mand\u001b[0m \u001b[1;32mnot\u001b[0m \u001b[0mhasattr\u001b[0m\u001b[1;33m(\u001b[0m\u001b[0minstruction\u001b[0m\u001b[1;33m,\u001b[0m \u001b[1;34m\"to_instruction\"\u001b[0m\u001b[1;33m)\u001b[0m\u001b[1;33m:\u001b[0m\u001b[1;33m\u001b[0m\u001b[1;33m\u001b[0m\u001b[0m\n\u001b[1;32m-> 1063\u001b[1;33m             \u001b[1;32mif\u001b[0m \u001b[0missubclass\u001b[0m\u001b[1;33m(\u001b[0m\u001b[0minstruction\u001b[0m\u001b[1;33m,\u001b[0m \u001b[0mInstruction\u001b[0m\u001b[1;33m)\u001b[0m\u001b[1;33m:\u001b[0m\u001b[1;33m\u001b[0m\u001b[1;33m\u001b[0m\u001b[0m\n\u001b[0m\u001b[0;32m   1064\u001b[0m                 raise CircuitError(\n\u001b[0;32m   1065\u001b[0m                     \u001b[1;34m\"Object is a subclass of Instruction, please add () to \"\u001b[0m\u001b[1;33m\u001b[0m\u001b[1;33m\u001b[0m\u001b[0m\n",
      "\u001b[1;31mTypeError\u001b[0m: issubclass() arg 1 must be a class"
     ]
    }
   ],
   "source": [
    "x = QuantumRegister(3, 'x')\n",
    "y = QuantumRegister(1, 'y')\n",
    "c = ClassicalRegister(3, 'c')\n",
    "qc = QuantumCircuit(x,y, c)\n",
    "qc.h(x)\n",
    "qc.h(y)\n",
    "qc.append(oracle_ex3,[0,1,2,3])\n",
    "qc.h(x)\n",
    "qc.append(oracle_inverse,[0,1,2])\n",
    "qc.h(x)\n",
    "qc.draw()"
   ]
  },
  {
   "cell_type": "code",
   "execution_count": 29,
   "id": "dbb4c033",
   "metadata": {},
   "outputs": [],
   "source": []
  },
  {
   "cell_type": "code",
   "execution_count": null,
   "id": "f6bf6a6c",
   "metadata": {},
   "outputs": [],
   "source": [
    "x = QuantumRegister(3, 'x')\n",
    "y = QuantumRegister(1, 'y')\n",
    "c = ClassicalRegister(3, 'c')\n",
    "qc = QuantumCircuit(x,y, c)\n",
    "qc.h(x)\n"
   ]
  },
  {
   "cell_type": "code",
   "execution_count": 33,
   "id": "2ed0b068",
   "metadata": {},
   "outputs": [
    {
     "data": {
      "text/html": [
       "<pre style=\"word-wrap: normal;white-space: pre;background: #fff0;line-height: 1.1;font-family: &quot;Courier New&quot;,Courier,monospace\">     ┌───┐ ░                 ░ ┌───┐ ░ \n",
       "x_0: ┤ X ├─░────────■────────░─┤ X ├─░─\n",
       "     ├───┤ ░        │        ░ ├───┤ ░ \n",
       "x_1: ┤ X ├─░────────■────────░─┤ X ├─░─\n",
       "     ├───┤ ░ ┌───┐┌─┴─┐┌───┐ ░ ├───┤ ░ \n",
       "x_2: ┤ X ├─░─┤ H ├┤ X ├┤ H ├─░─┤ X ├─░─\n",
       "     └───┘ ░ └───┘└───┘└───┘ ░ └───┘ ░ \n",
       "c: 3/══════════════════════════════════\n",
       "                                       </pre>"
      ],
      "text/plain": [
       "     ┌───┐ ░                 ░ ┌───┐ ░ \n",
       "x_0: ┤ X ├─░────────■────────░─┤ X ├─░─\n",
       "     ├───┤ ░        │        ░ ├───┤ ░ \n",
       "x_1: ┤ X ├─░────────■────────░─┤ X ├─░─\n",
       "     ├───┤ ░ ┌───┐┌─┴─┐┌───┐ ░ ├───┤ ░ \n",
       "x_2: ┤ X ├─░─┤ H ├┤ X ├┤ H ├─░─┤ X ├─░─\n",
       "     └───┘ ░ └───┘└───┘└───┘ ░ └───┘ ░ \n",
       "c: 3/══════════════════════════════════\n",
       "                                       "
      ]
     },
     "execution_count": 33,
     "metadata": {},
     "output_type": "execute_result"
    }
   ],
   "source": []
  },
  {
   "cell_type": "markdown",
   "id": "42029260",
   "metadata": {},
   "source": [
    "#### (iii)"
   ]
  },
  {
   "cell_type": "code",
   "execution_count": 36,
   "id": "cce81248",
   "metadata": {},
   "outputs": [
    {
     "name": "stdout",
     "output_type": "stream",
     "text": [
      "         ┌────────────┐┌─────────┐ ░            ░      ┌───┐ ░ ┌─┐    ░        »\n",
      "    q_0: ┤ Ry(1.9106) ├┤ Rx(π/6) ├─░────────────░───■──┤ H ├─░─┤M├────░────────»\n",
      "         └────────────┘└─────────┘ ░ ┌───┐      ░ ┌─┴─┐└───┘ ░ └╥┘┌─┐ ░        »\n",
      "    q_1: ──────────────────────────░─┤ H ├──■───░─┤ X ├──────░──╫─┤M├─░────────»\n",
      "                                   ░ └───┘┌─┴─┐ ░ └───┘      ░  ║ └╥┘ ░  ┌───┐ »\n",
      "    q_2: ──────────────────────────░──────┤ X ├─░────────────░──╫──╫──░──┤ X ├─»\n",
      "         ┌────────────┐┌─────────┐ ░      └───┘ ░            ░  ║  ║  ░  └─╥─┘ »\n",
      "    q_3: ┤ Ry(1.9106) ├┤ Rx(π/6) ├─░────────────░────────────░──╫──╫──░────╫───»\n",
      "         └────────────┘└─────────┘ ░            ░            ░  ║  ║  ░    ║   »\n",
      "    q_4: ──────────────────────────░────────────░────────────░──╫──╫──░────╫───»\n",
      "                                   ░            ░            ░  ║  ║  ░    ║   »\n",
      "  crz: 1/═══════════════════════════════════════════════════════╩══╬═══════╬═══»\n",
      "                                                                0  ║    ┌──╨──┐»\n",
      "  crx: 1/══════════════════════════════════════════════════════════╩════╡ = 1 ╞»\n",
      "                                                                   0    └─────┘»\n",
      "cswap: 1/══════════════════════════════════════════════════════════════════════»\n",
      "                                                                               »\n",
      "«                                                                      \n",
      "«    q_0: ─────────────────────────────────────────────────────────────\n",
      "«                                                                      \n",
      "«    q_1: ─────────────────────────────────────────────────────────────\n",
      "«                             ┌───┐ ┌─────────────────┐                \n",
      "«    q_2: ────────────────────┤ Z ├─┤ Initialize(1,0) ├─X──────────────\n",
      "«         ┌─────────────────┐ └─╥─┘ └─────────────────┘ │              \n",
      "«    q_3: ┤ Initialize(1,0) ├───╫───────────────────────X──────────────\n",
      "«         └──────┬───┬──────┘   ║                       │ ┌───┐┌───┐┌─┐\n",
      "«    q_4: ───────┤ H ├──────────╫───────────────────────■─┤ H ├┤ X ├┤M├\n",
      "«                └───┘       ┌──╨──┐                      └───┘└───┘└╥┘\n",
      "«  crz: 1/═══════════════════╡ = 1 ╞═════════════════════════════════╬═\n",
      "«                            └─────┘                                 ║ \n",
      "«  crx: 1/═══════════════════════════════════════════════════════════╬═\n",
      "«                                                                    ║ \n",
      "«cswap: 1/═══════════════════════════════════════════════════════════╩═\n",
      "«                                                                    0 \n"
     ]
    },
    {
     "data": {
      "image/png": "[encoded data removed]",
      "text/plain": [
       "<Figure size 504x360 with 1 Axes>"
      ]
     },
     "execution_count": 36,
     "metadata": {},
     "output_type": "execute_result"
    }
   ],
   "source": [
    "## SETUP\n",
    "# Protocol uses 3 qubits and 2 classical bits in 2 different registers\n",
    "qr = QuantumRegister(5, name=\"q\")\n",
    "crz, crx = ClassicalRegister(1, name=\"crz\"), ClassicalRegister(1, name=\"crx\")\n",
    "qc = QuantumCircuit(qr, crz, crx)\n",
    "\n",
    "qc.ry(2 * np.arctan(np.sqrt(2)), 3)\n",
    "qc.rx(np.pi/6, 3) \n",
    "\n",
    "qc.ry(2 * np.arctan(np.sqrt(2)), 0)\n",
    "qc.rx(np.pi/6, 0) \n",
    "qc.barrier()\n",
    "## STEP 1\n",
    "create_bell_pair(qc, 1, 2)\n",
    "\n",
    "## STEP 2\n",
    "qc.barrier() # Use barrier to separate steps\n",
    "alice_gates(qc, 0, 1)\n",
    "\n",
    "## STEP 3\n",
    "measure_and_send(qc, 0, 1)\n",
    "\n",
    "## STEP 4\n",
    "qc.barrier() # Use barrier to separate steps\n",
    "bob_gates(qc, 2, crz, crx)\n",
    "qc.initialize([1,0],2)\n",
    "qc.initialize([1,0],3)\n",
    "qc.h(4)\n",
    "qc.cswap(4,2,3)\n",
    "qc.h(4)\n",
    "qc.x(4)\n",
    "\n",
    "cr_result = ClassicalRegister(1,name=\"cswap\")\n",
    "qc.add_register(cr_result)\n",
    "qc.measure(4,cr_result)\n",
    "print(qc)\n",
    "sim = Aer.get_backend('aer_simulator')\n",
    "t_qc = transpile(qc, sim)\n",
    "t_qc.save_statevector()\n",
    "counts = sim.run(t_qc).result().get_counts()\n",
    "qubit_counts = [marginal_counts(counts, [qubit]) for qubit in range(3)]\n",
    "plot_histogram(qubit_counts)"
   ]
  },
  {
   "cell_type": "markdown",
   "id": "427b0172",
   "metadata": {},
   "source": [
    "### 2(b)[3]"
   ]
  },
  {
   "cell_type": "code",
   "execution_count": 6,
   "id": "752e5e90",
   "metadata": {},
   "outputs": [
    {
     "name": "stdout",
     "output_type": "stream",
     "text": [
      "         ┌───┐      ░               ░      ┌───┐ ░ ┌─┐         \n",
      "qbits_0: ┤ H ├──■───░───────────────░───■──┤ H ├─░─┤M├─────────\n",
      "         └───┘┌─┴─┐ ░      ┌───┐    ░   │  └───┘ ░ └╥┘┌─┐      \n",
      "qbits_1: ─────┤ X ├─░───■──┤ H ├─■──░───┼────────░──╫─┤M├──────\n",
      "         ┌───┐└───┘ ░ ┌─┴─┐└───┘ │  ░   │        ░  ║ └╥┘┌─┐   \n",
      "qbits_2: ┤ H ├──■───░─┤ X ├──■───┼──░───┼────────░──╫──╫─┤M├───\n",
      "         └───┘┌─┴─┐ ░ └───┘┌─┴─┐ │  ░ ┌─┴─┐      ░  ║  ║ └╥┘┌─┐\n",
      "qbits_3: ─────┤ X ├─░──────┤ X ├─■──░─┤ X ├──────░──╫──╫──╫─┤M├\n",
      "              └───┘ ░      └───┘    ░ └───┘      ░  ║  ║  ║ └╥┘\n",
      "cbits: 4/═══════════════════════════════════════════╩══╩══╩══╩═\n",
      "                                                    0  1  2  3 \n"
     ]
    },
    {
     "data": {
      "image/png": "[encoded data removed]",
      "text/plain": [
       "<Figure size 504x360 with 1 Axes>"
      ]
     },
     "execution_count": 6,
     "metadata": {},
     "output_type": "execute_result"
    }
   ],
   "source": [
    "\n",
    "qbits = QuantumRegister(4, 'qbits')\n",
    "cbits = ClassicalRegister(4, 'cbits')\n",
    "sys = QuantumCircuit(qbits, cbits)\n",
    "\n",
    "# creating bell-pairs\n",
    "sys.h(qbits[0])\n",
    "sys.cx(qbits[0], qbits[1])\n",
    "\n",
    "sys.h(qbits[2])\n",
    "sys.cx(qbits[2], qbits[3])\n",
    "\n",
    "sys.barrier()\n",
    "\n",
    "# # transferring one qubit to channel\n",
    "# sys.swap(qbits[1], qbits[2])\n",
    "\n",
    "sys.cx(qbits[1],qbits[2])\n",
    "sys.h(qbits[1])\n",
    "sys.cx(qbits[2],qbits[3])\n",
    "sys.cz(qbits[1],qbits[3])\n",
    "sys.barrier()\n",
    "\n",
    "# checking fidelity with bell-basis measurement \n",
    "sys.cx(qbits[0], qbits[3])\n",
    "sys.h(qbits[0])\n",
    "\n",
    "sys.barrier()\n",
    "sys.measure(qbits,cbits)\n",
    "# measuring qubits\n",
    "print(sys)\n",
    "shots = 8192\n",
    "sim = Aer.get_backend('aer_simulator')\n",
    "t_qc = transpile(sys, sim)\n",
    "t_qc.save_statevector()\n",
    "counts = sim.run(t_qc).result().get_counts()\n",
    "qubit_counts = [marginal_counts(counts, [qubit]) for qubit in range(4)]\n",
    "plot_histogram(qubit_counts)"
   ]
  },
  {
   "cell_type": "markdown",
   "id": "7a3326f8",
   "metadata": {},
   "source": [
    "# Q3[4]"
   ]
  },
  {
   "cell_type": "code",
   "execution_count": 7,
   "id": "438fbd12",
   "metadata": {},
   "outputs": [],
   "source": [
    "from qiskit import *\n",
    "from qiskit.visualization import plot_histogram\n",
    "from numpy.random import randint\n",
    "import numpy as np\n",
    "from math import pi\n",
    "import time"
   ]
  },
  {
   "cell_type": "code",
   "execution_count": 8,
   "id": "c450fae7",
   "metadata": {},
   "outputs": [],
   "source": [
    "def encode_message(bits, bases):\n",
    "    message = []\n",
    "    for i in range(n):\n",
    "        qc = QuantumCircuit(1,1)\n",
    "        if bases[i] == 0: # Prepare qubit in Z-basis\n",
    "            if bits[i] == 0:\n",
    "                pass \n",
    "            else:\n",
    "                qc.x(0)\n",
    "        else: # Prepare qubit in X-basis\n",
    "            if bits[i] == 0:\n",
    "                qc.h(0)\n",
    "            else:\n",
    "                qc.x(0)\n",
    "                qc.h(0)\n",
    "        qc.barrier()\n",
    "        message.append(qc)\n",
    "    return message\n",
    "\n",
    "def encode_message_in_three_bases(bits, bases):\n",
    "    message = []\n",
    "    for i in range(n):\n",
    "        qc = QuantumCircuit(1,1)\n",
    "        if bases[i] == 0: # Prepare qubit in Z-basis\n",
    "            if bits[i] == 0:\n",
    "                pass \n",
    "            else:\n",
    "                qc.x(0)\n",
    "        elif bases[i] == 1: # Prepare qubit in X-basis\n",
    "            if bits[i] == 0:\n",
    "                qc.h(0)\n",
    "            else:\n",
    "                qc.x(0)\n",
    "                qc.h(0)\n",
    "        else:\n",
    "            if bits[i] == 0:\n",
    "                qc.h(0)\n",
    "                qc.s(0)\n",
    "            else:\n",
    "                qc.x(0)\n",
    "                qc.h(0)\n",
    "                qc.s(0)\n",
    "        qc.barrier()\n",
    "        message.append(qc)\n",
    "    return message\n",
    "\n",
    "\n",
    "def measure_message(message, bases):\n",
    "    backend = Aer.get_backend('aer_simulator')\n",
    "    measurements = []\n",
    "    for q in range(n):\n",
    "        if bases[q] == 0: # measuring in Z-basis\n",
    "            message[q].measure(0,0)\n",
    "        if bases[q] == 1: # measuring in X-basis\n",
    "            message[q].h(0)\n",
    "            message[q].measure(0,0)\n",
    "        aer_sim = Aer.get_backend('aer_simulator')\n",
    "        qobj = assemble(message[q], shots=1, memory=True)\n",
    "        result = aer_sim.run(qobj).result()\n",
    "        measured_bit = int(result.get_memory()[0])\n",
    "        measurements.append(measured_bit)\n",
    "    return measurements\n",
    "\n",
    "def intercept_message(message, bases):\n",
    "    backend = Aer.get_backend('aer_simulator')\n",
    "    measurements = []\n",
    "    for q in range(n):\n",
    "        if bases[q] == 0: # measuring in Z-basis\n",
    "            message[q].measure(0,0)\n",
    "        if bases[q] == 1: # measuring in X-basis\n",
    "            message[q].h(0)\n",
    "            message[q].measure(0,0)\n",
    "        aer_sim = Aer.get_backend('aer_simulator')\n",
    "        qobj = assemble(message[q], shots=1, memory=True)\n",
    "        result = aer_sim.run(qobj).result()\n",
    "        measured_bit = int(result.get_memory()[0])\n",
    "        measurements.append(measured_bit)\n",
    "    return measurements\n",
    "\n",
    "def intercept_message_using_breidbart_basis(message, bases):\n",
    "    backend = Aer.get_backend('aer_simulator')\n",
    "    measurements = []\n",
    "    for q in range(n):\n",
    "        message[q].ry(-np.pi/4,0)\n",
    "        message[q].measure(0,0)\n",
    "        aer_sim = Aer.get_backend('aer_simulator')\n",
    "        qobj = assemble(message[q], shots=1, memory=True)\n",
    "        result = aer_sim.run(qobj).result()\n",
    "        measured_bit = int(result.get_memory()[0])\n",
    "        measurements.append(measured_bit)\n",
    "    return measurements\n",
    "\n",
    "\n",
    "def intercept_message_in_three_bases(message, bases):\n",
    "    backend = Aer.get_backend('aer_simulator')\n",
    "    measurements = []\n",
    "    for q in range(n):\n",
    "        if bases[q] == 0: # measuring in Z-basis\n",
    "            message[q].measure(0,0)\n",
    "        if bases[q] == 1: # measuring in X-basis\n",
    "            message[q].h(0)\n",
    "            message[q].measure(0,0)\n",
    "        if bases[q] == 2:\n",
    "            message[q].sdg(0)\n",
    "            message[q].h(0)\n",
    "            message[q].measure(0,0)\n",
    "        aer_sim = Aer.get_backend('aer_simulator')\n",
    "        qobj = assemble(message[q], shots=1, memory=True)\n",
    "        result = aer_sim.run(qobj).result()\n",
    "        measured_bit = int(result.get_memory()[0])\n",
    "        measurements.append(measured_bit)\n",
    "    return measurements\n",
    "\n",
    "def intercept_message_the_best_in_three_bases(message, bases):\n",
    "    backend = Aer.get_backend('aer_simulator')\n",
    "    measurements = []\n",
    "    for q in range(n): \n",
    "        message[q].rz(-np.pi/4,0)\n",
    "        message[q].ry(-np.arccos(1/np.sqrt(3)),0)\n",
    "        message[q].measure(0,0)\n",
    "        aer_sim = Aer.get_backend('aer_simulator')\n",
    "        qobj = assemble(message[q], shots=1, memory=True)\n",
    "        result = aer_sim.run(qobj).result()\n",
    "        measured_bit = int(result.get_memory()[0])\n",
    "        measurements.append(measured_bit)\n",
    "    return measurements\n",
    "\n",
    "\n",
    "def remove_garbage(a_bases, b_bases, bits):\n",
    "    good_bits = []\n",
    "    for q in range(n):\n",
    "        if a_bases[q] == b_bases[q]:\n",
    "            # If both used the same basis, add\n",
    "            # this to the list of 'good' bits\n",
    "            good_bits.append(bits[q])\n",
    "    return good_bits\n",
    "\n",
    "def sample_bits(bits, selection):\n",
    "    sample = []\n",
    "    for i in selection:\n",
    "        # use np.mod to make sure the\n",
    "        # bit we sample is always in \n",
    "        # the list range\n",
    "        i = np.mod(i, len(bits))\n",
    "        # pop(i) removes the element of the\n",
    "        # list at index 'i'\n",
    "        sample.append(bits.pop(i))\n",
    "    return sample"
   ]
  },
  {
   "cell_type": "code",
   "execution_count": 9,
   "id": "85ace7c1",
   "metadata": {},
   "outputs": [
    {
     "name": "stderr",
     "output_type": "stream",
     "text": [
      "C:\\Users\\USER\\anaconda3\\envs\\IBMQ\\lib\\site-packages\\qiskit\\utils\\deprecation.py:62: DeprecationWarning: Using a qobj for run() is deprecated as of qiskit-aer 0.9.0 and will be removed no sooner than 3 months from that release date. Transpiled circuits should now be passed directly using `backend.run(circuits, **run_options).\n",
      "  return func(*args, **kwargs)\n"
     ]
    },
    {
     "name": "stdout",
     "output_type": "stream",
     "text": [
      "correct percentage:  75.0 %\n"
     ]
    }
   ],
   "source": [
    "np.random.seed(seed=round(time.time()))\n",
    "n = 1000\n",
    "\n",
    "## Step 1\n",
    "# Alice generates bits\n",
    "alice_bits = randint(2, size=n)\n",
    "\n",
    "## Step 2\n",
    "# Create an array to tell us which qubits\n",
    "# are encoded in which bases\n",
    "alice_bases = randint(2, size=n)\n",
    "message = encode_message(alice_bits, alice_bases)\n",
    "\n",
    "## Interception!!\n",
    "eve_bases = randint(2, size=n)\n",
    "intercepted_message = intercept_message(message, eve_bases)\n",
    "\n",
    "## Step 3\n",
    "# Decide which basis to measure in:\n",
    "bob_bases = randint(2, size=n)\n",
    "bob_results = measure_message(message, bob_bases)\n",
    "\n",
    "## Step 4\n",
    "alice_key = remove_garbage(alice_bases, bob_bases, alice_bits)\n",
    "bob_key = remove_garbage(alice_bases, bob_bases, bob_results)\n",
    "correct_bit = 0\n",
    "for i in range(n):\n",
    "    if(alice_bits[i] == intercepted_message[i]):\n",
    "        correct_bit = correct_bit + 1\n",
    "print(\"correct percentage: \", correct_bit/n*100, \"%\")"
   ]
  },
  {
   "cell_type": "code",
   "execution_count": 10,
   "id": "aac6e29d",
   "metadata": {},
   "outputs": [
    {
     "name": "stdout",
     "output_type": "stream",
     "text": [
      "correct percentage:  85.8 %\n"
     ]
    }
   ],
   "source": [
    "np.random.seed(seed=round(time.time()))\n",
    "n = 1000\n",
    "\n",
    "## Step 1\n",
    "# Alice generates bits\n",
    "alice_bits = randint(2, size=n)\n",
    "\n",
    "## Step 2\n",
    "# Create an array to tell us which qubits\n",
    "# are encoded in which bases\n",
    "alice_bases = randint(2, size=n)\n",
    "\n",
    "message = encode_message(alice_bits, alice_bases)\n",
    "\n",
    "## Interception!!\n",
    "eve_bases = randint(2, size=n)\n",
    "\n",
    "intercepted_message = intercept_message_using_breidbart_basis(message, eve_bases)\n",
    "\n",
    "## Step 3\n",
    "# Decide which basis to measure in:\n",
    "bob_bases = randint(2, size=n)\n",
    "bob_results = measure_message(message, bob_bases)\n",
    "\n",
    "## Step 4\n",
    "alice_key = remove_garbage(alice_bases, bob_bases, alice_bits)\n",
    "bob_key = remove_garbage(alice_bases, bob_bases, bob_results)\n",
    "correct_bit = 0\n",
    "for i in range(n):\n",
    "    if(alice_bits[i] == intercepted_message[i]):\n",
    "        correct_bit = correct_bit + 1\n",
    "print(\"correct percentage: \", correct_bit/n*100, \"%\")"
   ]
  },
  {
   "cell_type": "code",
   "execution_count": 11,
   "id": "652dff07",
   "metadata": {},
   "outputs": [
    {
     "name": "stdout",
     "output_type": "stream",
     "text": [
      "correct percentage:  67.30000000000001 %\n"
     ]
    }
   ],
   "source": [
    "np.random.seed(seed=round(time.time()))\n",
    "n = 1000\n",
    "\n",
    "## Step 1\n",
    "# Alice generates bits\n",
    "alice_bits = randint(2, size=n)\n",
    "\n",
    "## Step 2\n",
    "# Create an array to tell us which qubits\n",
    "# are encoded in which bases\n",
    "alice_bases = randint(3, size=n)\n",
    "message = encode_message_in_three_bases(alice_bits, alice_bases)\n",
    "\n",
    "## Interception!!\n",
    "eve_bases = randint(2, size=n)\n",
    "intercepted_message = intercept_message_in_three_bases(message, eve_bases)\n",
    "\n",
    "## Step 3\n",
    "# Decide which basis to measure in:\n",
    "bob_bases = randint(2, size=n)\n",
    "bob_results = measure_message(message, bob_bases)\n",
    "\n",
    "## Step 4\n",
    "alice_key = remove_garbage(alice_bases, bob_bases, alice_bits)\n",
    "bob_key = remove_garbage(alice_bases, bob_bases, bob_results)\n",
    "correct_bit = 0\n",
    "for i in range(n):\n",
    "    if(alice_bits[i] == intercepted_message[i]):\n",
    "        correct_bit = correct_bit + 1\n",
    "print(\"correct percentage: \", correct_bit/n*100, \"%\")"
   ]
  },
  {
   "cell_type": "code",
   "execution_count": 12,
   "id": "9f0e5bf3",
   "metadata": {},
   "outputs": [
    {
     "name": "stdout",
     "output_type": "stream",
     "text": [
      "correct percentage:  76.8 %\n"
     ]
    }
   ],
   "source": [
    "np.random.seed(seed=round(time.time()))\n",
    "n = 1000\n",
    "## Step 1\n",
    "# Alice generates bits\n",
    "alice_bits = randint(2, size=n)\n",
    "## Step 2\n",
    "# Create an array to tell us which qubits\n",
    "# are encoded in which bases\n",
    "alice_bases = randint(3, size=n)\n",
    "message = encode_message_in_three_bases(alice_bits, alice_bases)\n",
    "\n",
    "## Interception!!\n",
    "eve_bases = randint(2, size=n)\n",
    "intercepted_message = intercept_message_the_best_in_three_bases(message, eve_bases)\n",
    "\n",
    "## Step 3\n",
    "# Decide which basis to measure in:\n",
    "bob_bases = randint(2, size=n)\n",
    "bob_results = measure_message(message, bob_bases)\n",
    "\n",
    "## Step 4\n",
    "alice_key = remove_garbage(alice_bases, bob_bases, alice_bits)\n",
    "bob_key = remove_garbage(alice_bases, bob_bases, bob_results)\n",
    "correct_bit = 0\n",
    "for i in range(n):\n",
    "    if(alice_bits[i] == intercepted_message[i]):\n",
    "        correct_bit = correct_bit + 1\n",
    "print(\"correct percentage: \", correct_bit/n*100, \"%\")"
   ]
  },
  {
   "cell_type": "markdown",
   "id": "8b72b5a4",
   "metadata": {},
   "source": [
    "## Reference"
   ]
  },
  {
   "cell_type": "markdown",
   "id": "010c43a1",
   "metadata": {},
   "source": [
    "[1] https://qiskit.org/textbook/ch-algorithms/superdense-coding.html \\\n",
    "[2] https://qiskit.org/textbook/ch-algorithms/teleportation.html \\\n",
    "[3] https://github.com/SowmitraDas/Quantum-Repeater-using-Quantum-Circuits/blob/main/Elements%20-%20Entanglement%20Swapping.ipynb \\\n",
    "[4]https://qiskit.org/textbook/ch-algorithms/quantum-key-distribution.html"
   ]
  },
  {
   "cell_type": "code",
   "execution_count": null,
   "id": "5148f6e8",
   "metadata": {},
   "outputs": [],
   "source": []
  }
 ],
 "metadata": {
  "kernelspec": {
   "display_name": "Python 3 (ipykernel)",
   "language": "python",
   "name": "python3"
  },
  "language_info": {
   "codemirror_mode": {
    "name": "ipython",
    "version": 3
   },
   "file_extension": ".py",
   "mimetype": "text/x-python",
   "name": "python",
   "nbconvert_exporter": "python",
   "pygments_lexer": "ipython3",
   "version": "3.9.7"
  }
 },
 "nbformat": 4,
 "nbformat_minor": 5
}
